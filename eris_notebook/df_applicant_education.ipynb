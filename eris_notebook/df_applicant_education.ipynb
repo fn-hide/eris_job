{
 "cells": [
  {
   "cell_type": "code",
   "execution_count": 61,
   "metadata": {},
   "outputs": [],
   "source": [
    "from transform import pick_date, filter_date, get_age, substract_months\n",
    "import pandas as pd\n",
    "import numpy as np"
   ]
  },
  {
   "cell_type": "code",
   "execution_count": 62,
   "metadata": {},
   "outputs": [],
   "source": [
    "df_applicant_education = pd.read_csv('data/df_applicant_education.csv', index_col=['ApplicantEducationID'])\n",
    "df_applicant_education.drop(columns=['Unnamed: 0'], inplace=True)\n",
    "df_applicant_education.drop_duplicates(['ApplicantID', 'DateStart', 'DateEnd'], inplace=True)"
   ]
  },
  {
   "cell_type": "code",
   "execution_count": 63,
   "metadata": {},
   "outputs": [
    {
     "data": {
      "text/html": [
       "<div>\n",
       "<style scoped>\n",
       "    .dataframe tbody tr th:only-of-type {\n",
       "        vertical-align: middle;\n",
       "    }\n",
       "\n",
       "    .dataframe tbody tr th {\n",
       "        vertical-align: top;\n",
       "    }\n",
       "\n",
       "    .dataframe thead th {\n",
       "        text-align: right;\n",
       "    }\n",
       "</style>\n",
       "<table border=\"1\" class=\"dataframe\">\n",
       "  <thead>\n",
       "    <tr style=\"text-align: right;\">\n",
       "      <th></th>\n",
       "      <th>ApplicantID</th>\n",
       "      <th>DateStart</th>\n",
       "      <th>DateEnd</th>\n",
       "      <th>EducationInstituteName</th>\n",
       "      <th>Score</th>\n",
       "      <th>EducationLevelID</th>\n",
       "      <th>MajorID</th>\n",
       "      <th>Degree</th>\n",
       "    </tr>\n",
       "    <tr>\n",
       "      <th>ApplicantEducationID</th>\n",
       "      <th></th>\n",
       "      <th></th>\n",
       "      <th></th>\n",
       "      <th></th>\n",
       "      <th></th>\n",
       "      <th></th>\n",
       "      <th></th>\n",
       "      <th></th>\n",
       "    </tr>\n",
       "  </thead>\n",
       "  <tbody>\n",
       "    <tr>\n",
       "      <th>1</th>\n",
       "      <td>3</td>\n",
       "      <td>2011-07-01 00:00:00.0000000</td>\n",
       "      <td>2016-01-01 00:00:00.0000000</td>\n",
       "      <td>ATMAJAYA YOGYAKARTA UNIVERSITY</td>\n",
       "      <td>3.01</td>\n",
       "      <td>2</td>\n",
       "      <td>7.0</td>\n",
       "      <td>True</td>\n",
       "    </tr>\n",
       "    <tr>\n",
       "      <th>2</th>\n",
       "      <td>4</td>\n",
       "      <td>2013-07-01 00:00:00.0000000</td>\n",
       "      <td>2017-10-01 00:00:00.0000000</td>\n",
       "      <td>UNIVERSITAS MUHAMMADIYAH SIDOARJO</td>\n",
       "      <td>3.37</td>\n",
       "      <td>2</td>\n",
       "      <td>4.0</td>\n",
       "      <td>True</td>\n",
       "    </tr>\n",
       "    <tr>\n",
       "      <th>3</th>\n",
       "      <td>8</td>\n",
       "      <td>2012-10-01 00:00:00.0000000</td>\n",
       "      <td>2016-02-01 00:00:00.0000000</td>\n",
       "      <td>STIE PERBANAS MALANG</td>\n",
       "      <td>328.00</td>\n",
       "      <td>2</td>\n",
       "      <td>7.0</td>\n",
       "      <td>True</td>\n",
       "    </tr>\n",
       "  </tbody>\n",
       "</table>\n",
       "</div>"
      ],
      "text/plain": [
       "                      ApplicantID                    DateStart  \\\n",
       "ApplicantEducationID                                             \n",
       "1                               3  2011-07-01 00:00:00.0000000   \n",
       "2                               4  2013-07-01 00:00:00.0000000   \n",
       "3                               8  2012-10-01 00:00:00.0000000   \n",
       "\n",
       "                                          DateEnd  \\\n",
       "ApplicantEducationID                                \n",
       "1                     2016-01-01 00:00:00.0000000   \n",
       "2                     2017-10-01 00:00:00.0000000   \n",
       "3                     2016-02-01 00:00:00.0000000   \n",
       "\n",
       "                                 EducationInstituteName   Score  \\\n",
       "ApplicantEducationID                                              \n",
       "1                        ATMAJAYA YOGYAKARTA UNIVERSITY    3.01   \n",
       "2                     UNIVERSITAS MUHAMMADIYAH SIDOARJO    3.37   \n",
       "3                                  STIE PERBANAS MALANG  328.00   \n",
       "\n",
       "                      EducationLevelID  MajorID  Degree  \n",
       "ApplicantEducationID                                     \n",
       "1                                    2      7.0    True  \n",
       "2                                    2      4.0    True  \n",
       "3                                    2      7.0    True  "
      ]
     },
     "execution_count": 63,
     "metadata": {},
     "output_type": "execute_result"
    }
   ],
   "source": [
    "df_applicant_education.head(3)"
   ]
  },
  {
   "cell_type": "code",
   "execution_count": 64,
   "metadata": {},
   "outputs": [],
   "source": [
    "df_applicant_education.DateStart = df_applicant_education.DateStart.map(pick_date).apply(lambda x: filter_date(x, 1980, 2023))\n",
    "df_applicant_education.DateEnd = df_applicant_education.DateEnd.map(pick_date).apply(lambda x: filter_date(x, 1980, 2023))"
   ]
  },
  {
   "cell_type": "code",
   "execution_count": 65,
   "metadata": {},
   "outputs": [
    {
     "data": {
      "text/html": [
       "<div>\n",
       "<style scoped>\n",
       "    .dataframe tbody tr th:only-of-type {\n",
       "        vertical-align: middle;\n",
       "    }\n",
       "\n",
       "    .dataframe tbody tr th {\n",
       "        vertical-align: top;\n",
       "    }\n",
       "\n",
       "    .dataframe thead th {\n",
       "        text-align: right;\n",
       "    }\n",
       "</style>\n",
       "<table border=\"1\" class=\"dataframe\">\n",
       "  <thead>\n",
       "    <tr style=\"text-align: right;\">\n",
       "      <th></th>\n",
       "      <th>ApplicantID</th>\n",
       "      <th>DateStart</th>\n",
       "      <th>DateEnd</th>\n",
       "      <th>EducationInstituteName</th>\n",
       "      <th>Score</th>\n",
       "      <th>EducationLevelID</th>\n",
       "      <th>MajorID</th>\n",
       "      <th>Degree</th>\n",
       "    </tr>\n",
       "    <tr>\n",
       "      <th>ApplicantEducationID</th>\n",
       "      <th></th>\n",
       "      <th></th>\n",
       "      <th></th>\n",
       "      <th></th>\n",
       "      <th></th>\n",
       "      <th></th>\n",
       "      <th></th>\n",
       "      <th></th>\n",
       "    </tr>\n",
       "  </thead>\n",
       "  <tbody>\n",
       "    <tr>\n",
       "      <th>1</th>\n",
       "      <td>3</td>\n",
       "      <td>2011-07-01</td>\n",
       "      <td>2016-01-01</td>\n",
       "      <td>ATMAJAYA YOGYAKARTA UNIVERSITY</td>\n",
       "      <td>3.01</td>\n",
       "      <td>2</td>\n",
       "      <td>7.0</td>\n",
       "      <td>True</td>\n",
       "    </tr>\n",
       "    <tr>\n",
       "      <th>2</th>\n",
       "      <td>4</td>\n",
       "      <td>2013-07-01</td>\n",
       "      <td>2017-10-01</td>\n",
       "      <td>UNIVERSITAS MUHAMMADIYAH SIDOARJO</td>\n",
       "      <td>3.37</td>\n",
       "      <td>2</td>\n",
       "      <td>4.0</td>\n",
       "      <td>True</td>\n",
       "    </tr>\n",
       "    <tr>\n",
       "      <th>3</th>\n",
       "      <td>8</td>\n",
       "      <td>2012-10-01</td>\n",
       "      <td>2016-02-01</td>\n",
       "      <td>STIE PERBANAS MALANG</td>\n",
       "      <td>328.00</td>\n",
       "      <td>2</td>\n",
       "      <td>7.0</td>\n",
       "      <td>True</td>\n",
       "    </tr>\n",
       "  </tbody>\n",
       "</table>\n",
       "</div>"
      ],
      "text/plain": [
       "                      ApplicantID   DateStart     DateEnd  \\\n",
       "ApplicantEducationID                                        \n",
       "1                               3  2011-07-01  2016-01-01   \n",
       "2                               4  2013-07-01  2017-10-01   \n",
       "3                               8  2012-10-01  2016-02-01   \n",
       "\n",
       "                                 EducationInstituteName   Score  \\\n",
       "ApplicantEducationID                                              \n",
       "1                        ATMAJAYA YOGYAKARTA UNIVERSITY    3.01   \n",
       "2                     UNIVERSITAS MUHAMMADIYAH SIDOARJO    3.37   \n",
       "3                                  STIE PERBANAS MALANG  328.00   \n",
       "\n",
       "                      EducationLevelID  MajorID  Degree  \n",
       "ApplicantEducationID                                     \n",
       "1                                    2      7.0    True  \n",
       "2                                    2      4.0    True  \n",
       "3                                    2      7.0    True  "
      ]
     },
     "execution_count": 65,
     "metadata": {},
     "output_type": "execute_result"
    }
   ],
   "source": [
    "df_applicant_education.head(3)"
   ]
  },
  {
   "cell_type": "code",
   "execution_count": 66,
   "metadata": {},
   "outputs": [],
   "source": [
    "df_applicant_education.DateStart = pd.to_datetime(df_applicant_education.DateStart)\n",
    "df_applicant_education.DateEnd = pd.to_datetime(df_applicant_education.DateEnd)"
   ]
  },
  {
   "cell_type": "code",
   "execution_count": 67,
   "metadata": {},
   "outputs": [
    {
     "name": "stderr",
     "output_type": "stream",
     "text": [
      "C:\\Users\\febri\\AppData\\Local\\Temp\\ipykernel_13664\\654398753.py:1: SettingWithCopyWarning: \n",
      "A value is trying to be set on a copy of a slice from a DataFrame\n",
      "\n",
      "See the caveats in the documentation: https://pandas.pydata.org/pandas-docs/stable/user_guide/indexing.html#returning-a-view-versus-a-copy\n",
      "  df_applicant_education.DateStart[\n",
      "C:\\Users\\febri\\AppData\\Local\\Temp\\ipykernel_13664\\654398753.py:4: SettingWithCopyWarning: \n",
      "A value is trying to be set on a copy of a slice from a DataFrame\n",
      "\n",
      "See the caveats in the documentation: https://pandas.pydata.org/pandas-docs/stable/user_guide/indexing.html#returning-a-view-versus-a-copy\n",
      "  df_applicant_education.DateEnd[\n"
     ]
    }
   ],
   "source": [
    "df_applicant_education.DateStart[\n",
    "    (df_applicant_education.DateStart.isnull()) | (df_applicant_education.DateEnd.isnull())\n",
    "] = pd.NaT\n",
    "df_applicant_education.DateEnd[\n",
    "    (df_applicant_education.DateStart.isnull()) | (df_applicant_education.DateEnd.isnull())\n",
    "] = pd.NaT"
   ]
  },
  {
   "cell_type": "code",
   "execution_count": 68,
   "metadata": {},
   "outputs": [],
   "source": [
    "df_applicant_education['YearsOfEducation'] = substract_months(df_applicant_education.DateStart, df_applicant_education.DateEnd).apply(lambda x: int(x/12) if (x > 1) else 0)"
   ]
  },
  {
   "cell_type": "code",
   "execution_count": 69,
   "metadata": {},
   "outputs": [
    {
     "data": {
      "text/html": [
       "<div>\n",
       "<style scoped>\n",
       "    .dataframe tbody tr th:only-of-type {\n",
       "        vertical-align: middle;\n",
       "    }\n",
       "\n",
       "    .dataframe tbody tr th {\n",
       "        vertical-align: top;\n",
       "    }\n",
       "\n",
       "    .dataframe thead th {\n",
       "        text-align: right;\n",
       "    }\n",
       "</style>\n",
       "<table border=\"1\" class=\"dataframe\">\n",
       "  <thead>\n",
       "    <tr style=\"text-align: right;\">\n",
       "      <th></th>\n",
       "      <th>ApplicantID</th>\n",
       "      <th>DateStart</th>\n",
       "      <th>DateEnd</th>\n",
       "      <th>EducationInstituteName</th>\n",
       "      <th>Score</th>\n",
       "      <th>EducationLevelID</th>\n",
       "      <th>MajorID</th>\n",
       "      <th>Degree</th>\n",
       "      <th>YearsOfEducation</th>\n",
       "    </tr>\n",
       "    <tr>\n",
       "      <th>ApplicantEducationID</th>\n",
       "      <th></th>\n",
       "      <th></th>\n",
       "      <th></th>\n",
       "      <th></th>\n",
       "      <th></th>\n",
       "      <th></th>\n",
       "      <th></th>\n",
       "      <th></th>\n",
       "      <th></th>\n",
       "    </tr>\n",
       "  </thead>\n",
       "  <tbody>\n",
       "    <tr>\n",
       "      <th>15499</th>\n",
       "      <td>44928</td>\n",
       "      <td>2010-05-31</td>\n",
       "      <td>2013-05-23</td>\n",
       "      <td>SMA Kristen YPKPM Ambon</td>\n",
       "      <td>6.90</td>\n",
       "      <td>5</td>\n",
       "      <td>13.0</td>\n",
       "      <td>True</td>\n",
       "      <td>3</td>\n",
       "    </tr>\n",
       "    <tr>\n",
       "      <th>15500</th>\n",
       "      <td>44929</td>\n",
       "      <td>2010-09-12</td>\n",
       "      <td>2014-10-29</td>\n",
       "      <td>Universitas Gunadarma</td>\n",
       "      <td>3.16</td>\n",
       "      <td>2</td>\n",
       "      <td>4.0</td>\n",
       "      <td>True</td>\n",
       "      <td>4</td>\n",
       "    </tr>\n",
       "    <tr>\n",
       "      <th>15501</th>\n",
       "      <td>44930</td>\n",
       "      <td>2012-09-14</td>\n",
       "      <td>2008-08-17</td>\n",
       "      <td>Universitas Islam Jakarta</td>\n",
       "      <td>3.36</td>\n",
       "      <td>2</td>\n",
       "      <td>7.0</td>\n",
       "      <td>True</td>\n",
       "      <td>0</td>\n",
       "    </tr>\n",
       "  </tbody>\n",
       "</table>\n",
       "</div>"
      ],
      "text/plain": [
       "                      ApplicantID  DateStart    DateEnd  \\\n",
       "ApplicantEducationID                                      \n",
       "15499                       44928 2010-05-31 2013-05-23   \n",
       "15500                       44929 2010-09-12 2014-10-29   \n",
       "15501                       44930 2012-09-14 2008-08-17   \n",
       "\n",
       "                         EducationInstituteName  Score  EducationLevelID  \\\n",
       "ApplicantEducationID                                                       \n",
       "15499                   SMA Kristen YPKPM Ambon   6.90                 5   \n",
       "15500                     Universitas Gunadarma   3.16                 2   \n",
       "15501                 Universitas Islam Jakarta   3.36                 2   \n",
       "\n",
       "                      MajorID  Degree  YearsOfEducation  \n",
       "ApplicantEducationID                                     \n",
       "15499                    13.0    True                 3  \n",
       "15500                     4.0    True                 4  \n",
       "15501                     7.0    True                 0  "
      ]
     },
     "execution_count": 69,
     "metadata": {},
     "output_type": "execute_result"
    }
   ],
   "source": [
    "df_applicant_education.tail(3)"
   ]
  },
  {
   "cell_type": "code",
   "execution_count": 70,
   "metadata": {},
   "outputs": [],
   "source": [
    "df_applicant_education.YearsOfEducation = df_applicant_education.YearsOfEducation.apply(lambda x: x if x <= 7 else 0)"
   ]
  },
  {
   "cell_type": "code",
   "execution_count": 87,
   "metadata": {},
   "outputs": [
    {
     "data": {
      "text/html": [
       "<div>\n",
       "<style scoped>\n",
       "    .dataframe tbody tr th:only-of-type {\n",
       "        vertical-align: middle;\n",
       "    }\n",
       "\n",
       "    .dataframe tbody tr th {\n",
       "        vertical-align: top;\n",
       "    }\n",
       "\n",
       "    .dataframe thead th {\n",
       "        text-align: right;\n",
       "    }\n",
       "</style>\n",
       "<table border=\"1\" class=\"dataframe\">\n",
       "  <thead>\n",
       "    <tr style=\"text-align: right;\">\n",
       "      <th></th>\n",
       "      <th>ApplicantID</th>\n",
       "      <th>DateStart</th>\n",
       "      <th>DateEnd</th>\n",
       "      <th>EducationInstituteName</th>\n",
       "      <th>Score</th>\n",
       "      <th>EducationLevelID</th>\n",
       "      <th>MajorID</th>\n",
       "      <th>Degree</th>\n",
       "      <th>YearsOfEducation</th>\n",
       "    </tr>\n",
       "    <tr>\n",
       "      <th>ApplicantEducationID</th>\n",
       "      <th></th>\n",
       "      <th></th>\n",
       "      <th></th>\n",
       "      <th></th>\n",
       "      <th></th>\n",
       "      <th></th>\n",
       "      <th></th>\n",
       "      <th></th>\n",
       "      <th></th>\n",
       "    </tr>\n",
       "  </thead>\n",
       "  <tbody>\n",
       "    <tr>\n",
       "      <th>1</th>\n",
       "      <td>3</td>\n",
       "      <td>2011-07-01</td>\n",
       "      <td>2016-01-01</td>\n",
       "      <td>ATMAJAYA YOGYAKARTA UNIVERSITY</td>\n",
       "      <td>3.01</td>\n",
       "      <td>2</td>\n",
       "      <td>7.0</td>\n",
       "      <td>True</td>\n",
       "      <td>4</td>\n",
       "    </tr>\n",
       "    <tr>\n",
       "      <th>2</th>\n",
       "      <td>4</td>\n",
       "      <td>2013-07-01</td>\n",
       "      <td>2017-10-01</td>\n",
       "      <td>UNIVERSITAS MUHAMMADIYAH SIDOARJO</td>\n",
       "      <td>3.37</td>\n",
       "      <td>2</td>\n",
       "      <td>4.0</td>\n",
       "      <td>True</td>\n",
       "      <td>4</td>\n",
       "    </tr>\n",
       "  </tbody>\n",
       "</table>\n",
       "</div>"
      ],
      "text/plain": [
       "                      ApplicantID  DateStart    DateEnd  \\\n",
       "ApplicantEducationID                                      \n",
       "1                               3 2011-07-01 2016-01-01   \n",
       "2                               4 2013-07-01 2017-10-01   \n",
       "\n",
       "                                 EducationInstituteName  Score  \\\n",
       "ApplicantEducationID                                             \n",
       "1                        ATMAJAYA YOGYAKARTA UNIVERSITY   3.01   \n",
       "2                     UNIVERSITAS MUHAMMADIYAH SIDOARJO   3.37   \n",
       "\n",
       "                      EducationLevelID  MajorID  Degree  YearsOfEducation  \n",
       "ApplicantEducationID                                                       \n",
       "1                                    2      7.0    True                 4  \n",
       "2                                    2      4.0    True                 4  "
      ]
     },
     "execution_count": 87,
     "metadata": {},
     "output_type": "execute_result"
    }
   ],
   "source": [
    "df_applicant_education.head(2)"
   ]
  },
  {
   "cell_type": "code",
   "execution_count": 88,
   "metadata": {},
   "outputs": [],
   "source": [
    "df_applicant_education = df_applicant_education.sort_values('DateStart').groupby(['ApplicantID']).agg({\n",
    "    'DateStart': 'first',\n",
    "    'DateEnd': 'last',\n",
    "    'EducationInstituteName': 'last',\n",
    "    'Score': 'last',\n",
    "    'EducationLevelID': 'last',\n",
    "    'MajorID': 'last',\n",
    "    'Degree': 'last',\n",
    "    'YearsOfEducation': 'sum',\n",
    "})"
   ]
  },
  {
   "cell_type": "code",
   "execution_count": 96,
   "metadata": {},
   "outputs": [
    {
     "data": {
      "text/plain": [
       "172.8"
      ]
     },
     "execution_count": 96,
     "metadata": {},
     "output_type": "execute_result"
    }
   ],
   "source": [
    "432/10*4"
   ]
  },
  {
   "cell_type": "code",
   "execution_count": 98,
   "metadata": {},
   "outputs": [
    {
     "data": {
      "text/plain": [
       "3.8"
      ]
     },
     "execution_count": 98,
     "metadata": {},
     "output_type": "execute_result"
    }
   ],
   "source": [
    "95/100*4"
   ]
  },
  {
   "cell_type": "code",
   "execution_count": 110,
   "metadata": {},
   "outputs": [],
   "source": [
    "def convert_gpa(val: float):\n",
    "    if 0 < val <= 1000:\n",
    "        if val <= 4:\n",
    "            return val\n",
    "        elif 4 < val <= 10:\n",
    "            return val/10*4\n",
    "        elif 10 < val <= 40:\n",
    "            return val/10\n",
    "        elif 40 < val <= 100:\n",
    "            return val/100*4\n",
    "        elif 100 < val <= 400:\n",
    "            return val/400\n",
    "        else:\n",
    "            return val/1000*4\n",
    "    else:\n",
    "        return 0"
   ]
  },
  {
   "cell_type": "code",
   "execution_count": 114,
   "metadata": {},
   "outputs": [],
   "source": [
    "df_applicant_education.Score = df_applicant_education.Score.map(convert_gpa)"
   ]
  },
  {
   "cell_type": "code",
   "execution_count": 116,
   "metadata": {},
   "outputs": [
    {
     "data": {
      "text/html": [
       "<div>\n",
       "<style scoped>\n",
       "    .dataframe tbody tr th:only-of-type {\n",
       "        vertical-align: middle;\n",
       "    }\n",
       "\n",
       "    .dataframe tbody tr th {\n",
       "        vertical-align: top;\n",
       "    }\n",
       "\n",
       "    .dataframe thead th {\n",
       "        text-align: right;\n",
       "    }\n",
       "</style>\n",
       "<table border=\"1\" class=\"dataframe\">\n",
       "  <thead>\n",
       "    <tr style=\"text-align: right;\">\n",
       "      <th></th>\n",
       "      <th>DateStart</th>\n",
       "      <th>DateEnd</th>\n",
       "      <th>EducationInstituteName</th>\n",
       "      <th>Score</th>\n",
       "      <th>EducationLevelID</th>\n",
       "      <th>MajorID</th>\n",
       "      <th>Degree</th>\n",
       "      <th>YearsOfEducation</th>\n",
       "    </tr>\n",
       "    <tr>\n",
       "      <th>ApplicantID</th>\n",
       "      <th></th>\n",
       "      <th></th>\n",
       "      <th></th>\n",
       "      <th></th>\n",
       "      <th></th>\n",
       "      <th></th>\n",
       "      <th></th>\n",
       "      <th></th>\n",
       "    </tr>\n",
       "  </thead>\n",
       "  <tbody>\n",
       "    <tr>\n",
       "      <th>1</th>\n",
       "      <td>2011-08-01</td>\n",
       "      <td>2014-08-01</td>\n",
       "      <td>SMAN 16 SURABAYA</td>\n",
       "      <td>2.00</td>\n",
       "      <td>5</td>\n",
       "      <td>13.0</td>\n",
       "      <td>False</td>\n",
       "      <td>3</td>\n",
       "    </tr>\n",
       "    <tr>\n",
       "      <th>3</th>\n",
       "      <td>2011-07-01</td>\n",
       "      <td>2016-01-01</td>\n",
       "      <td>ATMAJAYA YOGYAKARTA UNIVERSITY</td>\n",
       "      <td>3.01</td>\n",
       "      <td>2</td>\n",
       "      <td>7.0</td>\n",
       "      <td>True</td>\n",
       "      <td>4</td>\n",
       "    </tr>\n",
       "  </tbody>\n",
       "</table>\n",
       "</div>"
      ],
      "text/plain": [
       "             DateStart    DateEnd          EducationInstituteName  Score  \\\n",
       "ApplicantID                                                                \n",
       "1           2011-08-01 2014-08-01                SMAN 16 SURABAYA   2.00   \n",
       "3           2011-07-01 2016-01-01  ATMAJAYA YOGYAKARTA UNIVERSITY   3.01   \n",
       "\n",
       "             EducationLevelID  MajorID  Degree  YearsOfEducation  \n",
       "ApplicantID                                                       \n",
       "1                           5     13.0   False                 3  \n",
       "3                           2      7.0    True                 4  "
      ]
     },
     "execution_count": 116,
     "metadata": {},
     "output_type": "execute_result"
    }
   ],
   "source": [
    "df_applicant_education.head(2)"
   ]
  },
  {
   "cell_type": "code",
   "execution_count": 123,
   "metadata": {},
   "outputs": [],
   "source": [
    "df_applicant_education.MajorID = df_applicant_education.MajorID.fillna(0).astype(int)"
   ]
  },
  {
   "cell_type": "code",
   "execution_count": 125,
   "metadata": {},
   "outputs": [
    {
     "data": {
      "text/html": [
       "<div>\n",
       "<style scoped>\n",
       "    .dataframe tbody tr th:only-of-type {\n",
       "        vertical-align: middle;\n",
       "    }\n",
       "\n",
       "    .dataframe tbody tr th {\n",
       "        vertical-align: top;\n",
       "    }\n",
       "\n",
       "    .dataframe thead th {\n",
       "        text-align: right;\n",
       "    }\n",
       "</style>\n",
       "<table border=\"1\" class=\"dataframe\">\n",
       "  <thead>\n",
       "    <tr style=\"text-align: right;\">\n",
       "      <th></th>\n",
       "      <th>DateStart</th>\n",
       "      <th>DateEnd</th>\n",
       "      <th>EducationInstituteName</th>\n",
       "      <th>Score</th>\n",
       "      <th>EducationLevelID</th>\n",
       "      <th>MajorID</th>\n",
       "      <th>Degree</th>\n",
       "      <th>YearsOfEducation</th>\n",
       "    </tr>\n",
       "    <tr>\n",
       "      <th>ApplicantID</th>\n",
       "      <th></th>\n",
       "      <th></th>\n",
       "      <th></th>\n",
       "      <th></th>\n",
       "      <th></th>\n",
       "      <th></th>\n",
       "      <th></th>\n",
       "      <th></th>\n",
       "    </tr>\n",
       "  </thead>\n",
       "  <tbody>\n",
       "    <tr>\n",
       "      <th>1</th>\n",
       "      <td>2011-08-01</td>\n",
       "      <td>2014-08-01</td>\n",
       "      <td>SMAN 16 SURABAYA</td>\n",
       "      <td>2.00</td>\n",
       "      <td>5</td>\n",
       "      <td>13</td>\n",
       "      <td>False</td>\n",
       "      <td>3</td>\n",
       "    </tr>\n",
       "    <tr>\n",
       "      <th>3</th>\n",
       "      <td>2011-07-01</td>\n",
       "      <td>2016-01-01</td>\n",
       "      <td>ATMAJAYA YOGYAKARTA UNIVERSITY</td>\n",
       "      <td>3.01</td>\n",
       "      <td>2</td>\n",
       "      <td>7</td>\n",
       "      <td>True</td>\n",
       "      <td>4</td>\n",
       "    </tr>\n",
       "  </tbody>\n",
       "</table>\n",
       "</div>"
      ],
      "text/plain": [
       "             DateStart    DateEnd          EducationInstituteName  Score  \\\n",
       "ApplicantID                                                                \n",
       "1           2011-08-01 2014-08-01                SMAN 16 SURABAYA   2.00   \n",
       "3           2011-07-01 2016-01-01  ATMAJAYA YOGYAKARTA UNIVERSITY   3.01   \n",
       "\n",
       "             EducationLevelID  MajorID  Degree  YearsOfEducation  \n",
       "ApplicantID                                                       \n",
       "1                           5       13   False                 3  \n",
       "3                           2        7    True                 4  "
      ]
     },
     "execution_count": 125,
     "metadata": {},
     "output_type": "execute_result"
    }
   ],
   "source": [
    "df_applicant_education.head(2)"
   ]
  },
  {
   "cell_type": "code",
   "execution_count": 127,
   "metadata": {},
   "outputs": [],
   "source": [
    "df_applicant_education.drop(columns=['DateStart', 'DateEnd'], inplace=True)"
   ]
  },
  {
   "cell_type": "code",
   "execution_count": 128,
   "metadata": {},
   "outputs": [],
   "source": [
    "df_applicant_education.EducationInstituteName = df_applicant_education.EducationInstituteName.map(str.lower)"
   ]
  },
  {
   "cell_type": "code",
   "execution_count": 129,
   "metadata": {},
   "outputs": [
    {
     "data": {
      "text/html": [
       "<div>\n",
       "<style scoped>\n",
       "    .dataframe tbody tr th:only-of-type {\n",
       "        vertical-align: middle;\n",
       "    }\n",
       "\n",
       "    .dataframe tbody tr th {\n",
       "        vertical-align: top;\n",
       "    }\n",
       "\n",
       "    .dataframe thead th {\n",
       "        text-align: right;\n",
       "    }\n",
       "</style>\n",
       "<table border=\"1\" class=\"dataframe\">\n",
       "  <thead>\n",
       "    <tr style=\"text-align: right;\">\n",
       "      <th></th>\n",
       "      <th>EducationInstituteName</th>\n",
       "      <th>Score</th>\n",
       "      <th>EducationLevelID</th>\n",
       "      <th>MajorID</th>\n",
       "      <th>Degree</th>\n",
       "      <th>YearsOfEducation</th>\n",
       "    </tr>\n",
       "    <tr>\n",
       "      <th>ApplicantID</th>\n",
       "      <th></th>\n",
       "      <th></th>\n",
       "      <th></th>\n",
       "      <th></th>\n",
       "      <th></th>\n",
       "      <th></th>\n",
       "    </tr>\n",
       "  </thead>\n",
       "  <tbody>\n",
       "    <tr>\n",
       "      <th>1</th>\n",
       "      <td>sman 16 surabaya</td>\n",
       "      <td>2.00</td>\n",
       "      <td>5</td>\n",
       "      <td>13</td>\n",
       "      <td>False</td>\n",
       "      <td>3</td>\n",
       "    </tr>\n",
       "    <tr>\n",
       "      <th>3</th>\n",
       "      <td>atmajaya yogyakarta university</td>\n",
       "      <td>3.01</td>\n",
       "      <td>2</td>\n",
       "      <td>7</td>\n",
       "      <td>True</td>\n",
       "      <td>4</td>\n",
       "    </tr>\n",
       "    <tr>\n",
       "      <th>4</th>\n",
       "      <td>universitas muhammadiyah sidoarjo</td>\n",
       "      <td>3.37</td>\n",
       "      <td>2</td>\n",
       "      <td>4</td>\n",
       "      <td>True</td>\n",
       "      <td>4</td>\n",
       "    </tr>\n",
       "  </tbody>\n",
       "</table>\n",
       "</div>"
      ],
      "text/plain": [
       "                        EducationInstituteName  Score  EducationLevelID  \\\n",
       "ApplicantID                                                               \n",
       "1                             sman 16 surabaya   2.00                 5   \n",
       "3               atmajaya yogyakarta university   3.01                 2   \n",
       "4            universitas muhammadiyah sidoarjo   3.37                 2   \n",
       "\n",
       "             MajorID  Degree  YearsOfEducation  \n",
       "ApplicantID                                     \n",
       "1                 13   False                 3  \n",
       "3                  7    True                 4  \n",
       "4                  4    True                 4  "
      ]
     },
     "execution_count": 129,
     "metadata": {},
     "output_type": "execute_result"
    }
   ],
   "source": [
    "df_applicant_education.head(3)"
   ]
  },
  {
   "cell_type": "code",
   "execution_count": 130,
   "metadata": {},
   "outputs": [],
   "source": [
    "df_applicant_education.to_csv('data/cdf_applicant_education.csv')"
   ]
  }
 ],
 "metadata": {
  "kernelspec": {
   "display_name": "eris",
   "language": "python",
   "name": "python3"
  },
  "language_info": {
   "codemirror_mode": {
    "name": "ipython",
    "version": 3
   },
   "file_extension": ".py",
   "mimetype": "text/x-python",
   "name": "python",
   "nbconvert_exporter": "python",
   "pygments_lexer": "ipython3",
   "version": "3.11.0"
  },
  "orig_nbformat": 4
 },
 "nbformat": 4,
 "nbformat_minor": 2
}
