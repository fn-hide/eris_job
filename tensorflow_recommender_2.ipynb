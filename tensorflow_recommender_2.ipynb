{
 "cells": [
  {
   "cell_type": "code",
   "execution_count": 1,
   "metadata": {},
   "outputs": [
    {
     "name": "stderr",
     "output_type": "stream",
     "text": [
      "[nltk_data] Downloading package stopwords to\n",
      "[nltk_data]     C:\\Users\\eats\\AppData\\Roaming\\nltk_data...\n",
      "[nltk_data]   Package stopwords is already up-to-date!\n"
     ]
    }
   ],
   "source": [
    "import pyodbc\n",
    "import re\n",
    "\n",
    "import numpy as np\n",
    "import pandas as pd\n",
    "import tensorflow as tf\n",
    "import tensorflow_recommenders as tfrs\n",
    "\n",
    "from sqlalchemy import create_engine\n",
    "from datetime import datetime, timedelta\n",
    "from sklearn.metrics.pairwise import cosine_similarity\n",
    "\n",
    "from Sastrawi.StopWordRemover.StopWordRemoverFactory import StopWordRemoverFactory\n",
    "\n",
    "import nltk\n",
    "nltk.download('stopwords')\n",
    "from nltk.corpus import stopwords\n",
    "\n",
    "from googletrans import Translator\n",
    "\n",
    "from transform_copy import *"
   ]
  },
  {
   "cell_type": "code",
   "execution_count": 2,
   "metadata": {},
   "outputs": [],
   "source": [
    "pd.set_option('display.max_columns', None)\n",
    "pd.set_option('display.max_colwidth', 50)"
   ]
  },
  {
   "cell_type": "code",
   "execution_count": 3,
   "metadata": {},
   "outputs": [],
   "source": [
    "user = 'huda'\n",
    "password = 'Vancha12'\n",
    "host = '127.0.0.1'\n",
    "port = 1433\n",
    "database = 'HRSystemDB'\n",
    "\n",
    "\n",
    "def get_connection():         \n",
    "    return create_engine(\n",
    "        url=f\"mssql+pyodbc://{user}:{password}@{host}:{port}/{database}?driver=SQL Server\",\n",
    "    )\n",
    "\n",
    "engine = get_connection()\n",
    "conn = engine.connect()"
   ]
  },
  {
   "cell_type": "code",
   "execution_count": 4,
   "metadata": {},
   "outputs": [
    {
     "data": {
      "text/plain": [
       "'\\nJOB>>>MATCH<<<APPLICANT\\n\\n> numerical\\nDob == UsiaMax\\nSalaryMean == ExpectedSalary\\n\\n> categorical\\nCityName == CurrentCityName\\nProvinceName == CurrentProvinceName\\nDriverLicenseType\\nEducationLevelID\\nGender\\nMaritalStatus\\nMajorName\\nIsUsingGlasses\\n\\n> textual\\nJobTile, FunctionPositionName == Position\\nDescription, Requirement == JobDescription, Strengthness\\n'"
      ]
     },
     "execution_count": 4,
     "metadata": {},
     "output_type": "execute_result"
    }
   ],
   "source": [
    "'''\n",
    "JOB>>>MATCH<<<APPLICANT\n",
    "\n",
    "> numerical\n",
    "UsiaMax == Dob\n",
    "SalaryMean == ExpectedSalary\n",
    "\n",
    "> categorical\n",
    "CityName == CurrentCityName\n",
    "ProvinceName == CurrentProvinceName\n",
    "EducationLevelName\n",
    "MajorName\n",
    "DriverLicenseType\n",
    "IsUsingGlasses\n",
    "Gender\n",
    "MaritalStatus\n",
    "\n",
    "> textual\n",
    "JobTile, FunctionPositionName == Position\n",
    "Description, Requirement == JobDescription, Strengthness\n",
    "'''"
   ]
  },
  {
   "cell_type": "code",
   "execution_count": 9,
   "metadata": {},
   "outputs": [],
   "source": [
    "applicant_id = 31790\n",
    "\n",
    "df_job = pd.DataFrame(engine.execute(\n",
    "    \"\"\"\n",
    "    SELECT Job.JobID, Job.UsiaMax, Job.SalaryMin, Job.SalaryMax, City.Name AS CityName, Province.Name AS ProvinceName, EducationLevel.EducationLevelName, Major.MajorName, Job.DriverLicenseType, Job.UsingGlasses, Job.Gender, Job.MaritalStatus, Job.JobTitle, FunctionPosition.FunctionPositionName, Job.Description, Job.Requirement\n",
    "    FROM (((((Job\n",
    "    RIGHT JOIN FunctionPosition ON Job.FunctionPositionID = FunctionPosition.FunctionPositionID)\n",
    "    RIGHT JOIN EducationLevel ON Job.EducationLevelID = EducationLevel.EducationLevelID)\n",
    "    RIGHT JOIN City ON Job.CityID = City.CityID)\n",
    "    RIGHT JOIN Province ON Job.ProvinceID = Province.ProvinceID)\n",
    "    RIGHT JOIN Major ON Job.MajorID = Major.MajorID)\n",
    "    WHERE JobStatus='Publish'\n",
    "    \"\"\"\n",
    "))\n",
    "\n",
    "df_applicant = pd.DataFrame(engine.execute(\n",
    "    f\"\"\"\n",
    "    SELECT Applicant.ApplicantID, Applicant.Dob, Applicant.Strengthness, Applicant.Weaknesses, City.Name AS CityName, Province.Name AS ProvinceName\n",
    "    FROM ((Applicant\n",
    "    RIGHT JOIN City ON Applicant.CurrentAddressCityID = City.CityID)\n",
    "    RIGHT JOIN Province ON Applicant.CurrentAddressProvinceID = Province.ProvinceID)\n",
    "    WHERE ApplicantID={applicant_id}\n",
    "    \"\"\"\n",
    "))\n",
    "\n",
    "df_applicant_education = pd.DataFrame(engine.execute(\n",
    "    f\"\"\"\n",
    "    SELECT ApplicantEducation.ApplicantID, ApplicantEducation.DateStart, ApplicantEducation.DateEnd, EducationLevel.EducationLevelName, Major.MajorName\n",
    "    FROM ((ApplicantEducation\n",
    "    RIGHT JOIN EducationLevel ON ApplicantEducation.EducationLevelID = EducationLevel.EducationLevelID)\n",
    "    RIGHT JOIN Major ON ApplicantEducation.MajorID = Major.MajorID)\n",
    "    WHERE ApplicantID={applicant_id}\n",
    "    \"\"\"\n",
    "))\n",
    "\n",
    "df_applicant_experience = pd.DataFrame(engine.execute(\n",
    "    f\"\"\"\n",
    "    SELECT ApplicantExperience.ApplicantID, ApplicantExperience.DateFrom, ApplicantExperience.DateTo, ApplicantExperience.Industry, ApplicantExperience.JobDescription, ApplicantExperience.Position\n",
    "    FROM ApplicantExperience\n",
    "    WHERE ApplicantID={applicant_id}\n",
    "    \"\"\"\n",
    "))"
   ]
  },
  {
   "cell_type": "code",
   "execution_count": 6,
   "metadata": {},
   "outputs": [],
   "source": [
    "df_applicant = df_applicant.drop_duplicates()\n",
    "df_applicant = df_applicant.fillna('')\n",
    "df_applicant_education = df_applicant_education.fillna('')\n",
    "df_applicant_experience = df_applicant_experience.fillna('')\n",
    "\n",
    "'''applicant'''\n",
    "df_applicant['Age'] = pd.to_datetime(\n",
    "    df_applicant.Dob.map(pick_date).apply(lambda x: filter_date(x, 1958, 2006))\n",
    ").map(get_age)\n",
    "\n",
    "df_applicant.drop(columns=['Dob'], inplace=True)\n",
    "\n",
    "df_applicant.Age = df_applicant.Age.fillna(0).astype(int)\n",
    "\n",
    "'''education'''\n",
    "df_applicant_education.DateStart = pd.to_datetime(\n",
    "    df_applicant_education.DateStart.map(pick_date).apply(lambda x: filter_date(x, 1980, 2023))\n",
    ")\n",
    "\n",
    "df_applicant_education.DateEnd = pd.to_datetime(\n",
    "    df_applicant_education.DateEnd.map(pick_date).apply(lambda x: filter_date(x, 1980, 2023))\n",
    ")\n",
    "\n",
    "df_applicant_education = df_applicant_education[~(df_applicant_education.DateStart.isna()) & ~(df_applicant_education.DateEnd.isna())]\n",
    "df_applicant_education = df_applicant_education.sort_values('DateStart').groupby(['ApplicantID']).agg('last')\n",
    "\n",
    "df_applicant_education.drop(columns=['DateStart', 'DateEnd'], inplace=True)\n",
    "\n",
    "'''experience'''\n",
    "df_applicant_experience.DateFrom = pd.to_datetime(\n",
    "    df_applicant_experience.DateFrom.map(pick_date).apply(lambda x: filter_date(x, 1980, 2023))\n",
    ")\n",
    "\n",
    "df_applicant_experience.DateTo = pd.to_datetime(\n",
    "    df_applicant_experience.DateTo.map(pick_date).apply(lambda x: filter_date(x, 1980, 2023))\n",
    ")\n",
    "\n",
    "df_applicant_experience = df_applicant_experience[~(df_applicant_experience.DateFrom.isna()) & ~(df_applicant_experience.DateTo.isna())]\n",
    "\n",
    "# add YearsOfExperience column\n",
    "df_applicant_experience['YearsOfExperience'] = substract_months(\n",
    "    df_applicant_experience.DateFrom, df_applicant_experience.DateTo\n",
    ")\n",
    "\n",
    "df_applicant_experience = df_applicant_experience.sort_values('DateFrom').groupby(['ApplicantID']).agg({\n",
    "    'DateFrom': 'last',\n",
    "    'DateTo': 'last',\n",
    "    'Industry': ' '.join,\n",
    "    'JobDescription': ' '.join,\n",
    "    'Position': ' '.join,\n",
    "    'YearsOfExperience': 'sum',\n",
    "})\n",
    "\n",
    "df_applicant_experience.drop(columns=['DateFrom', 'DateTo'], inplace=True)\n",
    "\n",
    "'''merge'''\n",
    "df_applicant = pd.merge(df_applicant, df_applicant_experience, on=['ApplicantID'])\n",
    "df_applicant = pd.merge(df_applicant, df_applicant_education, on=['ApplicantID'])\n",
    "\n",
    "'''remove weaknesses'''\n",
    "df_applicant = df_applicant.drop(columns=['Weaknesses'])\n",
    "\n",
    "'''preprocessing'''\n",
    "df_applicant.set_index(['ApplicantID'], inplace=True)\n",
    "\n",
    "df_applicant[df_applicant.select_dtypes(object).columns] = df_applicant[df_applicant.select_dtypes(object).columns].applymap(str.lower)\n",
    "\n",
    "for col in ['Strengthness', 'JobDescription', 'Industry', 'Position']:\n",
    "    df_applicant[col] = df_applicant[col].map(clean_text)\n",
    "\n",
    "'''translate'''\n",
    "translator = Translator(service_urls=['translate.googleapis.com'])\n",
    "for col in ['Strengthness', 'Industry', 'JobDescription', 'Position']:\n",
    "    df_applicant[col] = df_applicant[col].apply(lambda x: translator.translate(x, dest='id').text)\n"
   ]
  },
  {
   "cell_type": "code",
   "execution_count": 7,
   "metadata": {},
   "outputs": [],
   "source": [
    "df_job.set_index(['JobID'], inplace=True)\n",
    "df_job.fillna('', inplace=True)\n",
    "\n",
    "df_job = df_job.applymap(str.lower)\n",
    "df_job.EducationLevelName = df_job.EducationLevelName.replace('none', '')\n",
    "\n",
    "translator = Translator(service_urls=['translate.googleapis.com'])\n",
    "\n",
    "df_job.JobTitle = df_job.JobTitle.apply(lambda x: translator.translate(x, dest='id').text.lower())\n",
    "df_job.FunctionPositionName = df_job.FunctionPositionName.apply(lambda x: translator.translate(x, dest='id').text.lower())\n",
    "df_job.MajorName = df_job.MajorName.apply(lambda x: translator.translate(x, dest='id').text.lower())\n",
    "\n",
    "df_job.Description = df_job.Description.map(clean_text).apply(lambda x: translator.translate(x, dest='id').text.lower())\n",
    "df_job.Requirement = df_job.Requirement.map(clean_text).apply(lambda x: translator.translate(x, dest='id').text.lower())"
   ]
  },
  {
   "cell_type": "code",
   "execution_count": null,
   "metadata": {},
   "outputs": [],
   "source": []
  },
  {
   "cell_type": "code",
   "execution_count": null,
   "metadata": {},
   "outputs": [],
   "source": []
  },
  {
   "cell_type": "code",
   "execution_count": null,
   "metadata": {},
   "outputs": [],
   "source": []
  },
  {
   "cell_type": "code",
   "execution_count": null,
   "metadata": {},
   "outputs": [],
   "source": []
  },
  {
   "cell_type": "code",
   "execution_count": null,
   "metadata": {},
   "outputs": [],
   "source": []
  },
  {
   "cell_type": "code",
   "execution_count": null,
   "metadata": {},
   "outputs": [],
   "source": []
  }
 ],
 "metadata": {
  "kernelspec": {
   "display_name": "p1",
   "language": "python",
   "name": "python3"
  },
  "language_info": {
   "codemirror_mode": {
    "name": "ipython",
    "version": 3
   },
   "file_extension": ".py",
   "mimetype": "text/x-python",
   "name": "python",
   "nbconvert_exporter": "python",
   "pygments_lexer": "ipython3",
   "version": "3.10.0"
  },
  "orig_nbformat": 4
 },
 "nbformat": 4,
 "nbformat_minor": 2
}
