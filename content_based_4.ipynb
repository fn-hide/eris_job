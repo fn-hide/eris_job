{
 "cells": [
  {
   "cell_type": "code",
   "execution_count": 91,
   "metadata": {},
   "outputs": [
    {
     "name": "stderr",
     "output_type": "stream",
     "text": [
      "[nltk_data] Downloading package stopwords to\n",
      "[nltk_data]     C:\\Users\\eats\\AppData\\Roaming\\nltk_data...\n",
      "[nltk_data]   Package stopwords is already up-to-date!\n"
     ]
    }
   ],
   "source": [
    "import pyodbc\n",
    "import re\n",
    "\n",
    "import numpy as np\n",
    "import pandas as pd\n",
    "\n",
    "from sqlalchemy import create_engine\n",
    "from datetime import datetime, timedelta\n",
    "\n",
    "from Sastrawi.StopWordRemover.StopWordRemoverFactory import StopWordRemoverFactory\n",
    "\n",
    "import nltk\n",
    "nltk.download('stopwords')\n",
    "from nltk.corpus import stopwords\n",
    "\n",
    "from googletrans import Translator\n",
    "\n",
    "from transform_copy import *"
   ]
  },
  {
   "cell_type": "code",
   "execution_count": 92,
   "metadata": {},
   "outputs": [],
   "source": [
    "pd.set_option('display.max_columns', None)\n",
    "pd.set_option('display.max_colwidth', 50)"
   ]
  },
  {
   "cell_type": "code",
   "execution_count": 93,
   "metadata": {},
   "outputs": [],
   "source": [
    "user = 'huda'\n",
    "password = 'Vancha12'\n",
    "host = '127.0.0.1'\n",
    "port = 1433\n",
    "database = 'HRSystemDB'\n",
    "\n",
    "\n",
    "def get_connection():         \n",
    "    return create_engine(\n",
    "        url=f\"mssql+pyodbc://{user}:{password}@{host}:{port}/{database}?driver=SQL Server\",\n",
    "    )\n",
    "\n",
    "engine = get_connection()\n",
    "conn = engine.connect()"
   ]
  },
  {
   "cell_type": "code",
   "execution_count": 94,
   "metadata": {},
   "outputs": [
    {
     "name": "stderr",
     "output_type": "stream",
     "text": [
      "C:\\Users\\eats\\AppData\\Local\\Temp\\ipykernel_21692\\863585613.py:1: SADeprecationWarning: The Engine.table_names() method is deprecated and will be removed in a future release.  Please refer to Inspector.get_table_names(). (deprecated since: 1.4)\n",
      "  tables = engine.table_names()\n"
     ]
    }
   ],
   "source": [
    "tables = engine.table_names()"
   ]
  },
  {
   "cell_type": "code",
   "execution_count": 121,
   "metadata": {},
   "outputs": [],
   "source": [
    "df_job = pd.DataFrame(engine.execute(\n",
    "            \"\"\"\n",
    "            SELECT Job.JobID, Job.JobTitle, FunctionPosition.FunctionPositionName, EducationLevel.EducationLevelName, City.Name AS CityName, Province.Name AS ProvinceName, Major.MajorName, Job.Description, Job.Requirement\n",
    "            FROM (((((Job\n",
    "            RIGHT JOIN FunctionPosition ON Job.FunctionPositionID = FunctionPosition.FunctionPositionID)\n",
    "            RIGHT JOIN EducationLevel ON Job.EducationLevelID = EducationLevel.EducationLevelID)\n",
    "            RIGHT JOIN City ON Job.CityID = City.CityID)\n",
    "            RIGHT JOIN Province ON Job.ProvinceID = Province.ProvinceID)\n",
    "            RIGHT JOIN Major ON Job.MajorID = Major.MajorID)\n",
    "            WHERE JobStatus='Publish'\n",
    "            \"\"\"\n",
    "        ))"
   ]
  },
  {
   "cell_type": "code",
   "execution_count": 122,
   "metadata": {},
   "outputs": [],
   "source": [
    "df_job.set_index(['JobID'], inplace=True)\n",
    "df_job.fillna('', inplace=True)\n",
    "\n",
    "df_job = df_job.applymap(str.lower)\n",
    "df_job.EducationLevelName = df_job.EducationLevelName.replace('none', '')\n",
    "\n",
    "translator = Translator(service_urls=['translate.googleapis.com'])\n",
    "\n",
    "df_job.JobTitle = df_job.JobTitle.apply(lambda x: translator.translate(x, dest='id').text.lower())\n",
    "df_job.FunctionPositionName = df_job.FunctionPositionName.apply(lambda x: translator.translate(x, dest='id').text.lower())\n",
    "df_job.MajorName = df_job.MajorName.apply(lambda x: translator.translate(x, dest='id').text.lower())\n",
    "\n",
    "df_job.Description = df_job.Description.map(clean_text).apply(lambda x: translator.translate(x, dest='id').text.lower())\n",
    "df_job.Requirement = df_job.Requirement.map(clean_text).apply(lambda x: translator.translate(x, dest='id').text.lower())"
   ]
  },
  {
   "cell_type": "code",
   "execution_count": 124,
   "metadata": {},
   "outputs": [],
   "source": [
    "df_job['JobTitle'] = df_job.JobTitle.str.cat(\n",
    "    df_job.FunctionPositionName.str.cat(\n",
    "        df_job.MajorName\n",
    "    , sep=' ')\n",
    ", sep=' ').apply(lambda x: ' '.join(set(x.split(' ')))).map(remove_standalonesymbols).map(remove_parenthesesnumber).map(remove_morespace)\n",
    "\n",
    "df_job.drop(columns=['FunctionPositionName', 'MajorName'], inplace=True)"
   ]
  },
  {
   "cell_type": "code",
   "execution_count": 101,
   "metadata": {},
   "outputs": [
    {
     "name": "stdout",
     "output_type": "stream",
     "text": [
      "direksi sekretaris | direksi sekretaris\n",
      "staf desain grafis | design desain staff graphic grafis\n",
      "toko jurusan semua staf awak kapal | jurusan staff crew semua outlet\n",
      "toko jurusan sma segala awak kapal Pengelola | jurusan sma crew segala outlet manager\n",
      "pengawas akuntansi | accounting supervisor akuntansi\n",
      "hukum Pengelola | hukum manager legal\n",
      "umum qc lapangan sipil operasi teknik | general qc operation lapangan sipil teknik\n",
      "pajak pengawas akuntansi | pajak accounting supervisor akuntansi\n",
      "riset jurusan semua staf perkembangan bisnis | research jurusan staff semua business & development\n",
      "umum jurusan perselingkuhan semua staf | general jurusan staff semua affair\n",
      "keuangan staf akuntansi  | staff akuntansi & accounting finance\n",
      "montir listrik jurusan bm-saya semua spv pemeliharaan | bm-me maintenance jurusan semua spv electician 2\n",
      "Properti jurusan semua pemasaran mendukung | support property jurusan semua marketing\n",
      "staf informatika dia teknik | informatika staff it teknik\n",
      "direksi sekretaris semua jurusan | direksi sekretaris semua jurusan\n",
      "hukum staf | hukum staff legal\n",
      " jurusan guru semua tempat penitipan anak |  teacher jurusan guru semua daycare\n",
      "jurusan marcomm semua komunikasi pemasaran | communication jurusan (marcomm) semua marketing\n",
      "jurusan guru guru semua bahasa Mandarin | mandarin teacher jurusan guru semua (laoshi) bahasa\n",
      "pengawas keuangan akuntansi  | supervisor & akuntansi accounting finance\n",
      "sewa asst jurusan mall semua perkembangan bisnis Pengelola | manager jurusan mall semua business leasing development asst.\n",
      "direksi sekretaris semua jurusan | direksi sekretaris semua jurusan\n",
      " akun jurusan semua petugas pemasaran eksekutif | / jurusan semua marketing account executive officer\n",
      "montir listrik jurusan bm-saya semua staf pemeliharaan | bm-me maintenance jurusan staff electician semua\n",
      "petugas sipil proyek teknik | teknik project sipil officer\n",
      "hukum staf litigasi | hukum staff legal litigasi\n",
      "ketua akuntansi | chief accounting akuntansi\n",
      "hukum staf | hukum staff legal\n",
      "staf keuangan akuntansi auditor | accounting staff & akuntansi auditor finance\n",
      "rekayasa staf sipil teknik | engineering staff sipil teknik\n",
      "& senior keuangan akuntansi | senior akuntansi & accounting finance\n",
      "umum senior jurusan perselingkuhan semua staf | general senior staff jurusan semua affair\n",
      "dia informatika mendukung teknik | informatika it support teknik\n",
      "umum jurusan perselingkuhan semua pengawas | general jurusan supervisor semua affair\n",
      " lokasi jurusan semua lapangan surveyor |  lokasi jurusan semua lapangan surveyor\n",
      "senior spv jurusan semua perkembangan bisnis | senior/spv jurusan semua business development\n",
      "umum bangunan jurusan semua operasi Pengelola | general jurusan operation semua manager building\n",
      "umum operasional jurusan hotel semua Pengelola | general manager jurusan hotel semua operational\n",
      "jurusan semua staf pemasaran eksekutif | jurusan staff semua marketing executive\n",
      "keuangan akuntansi Pengelola | finance akuntansi & accounting manager\n",
      "umum jurusan perselingkuhan semua ke | general (ga) jurusan semua affair 2\n",
      "desain media visual petugas komunikasi perkembangan sosial bisnis | desain media visual social komunikasi business officer development\n"
     ]
    }
   ],
   "source": [
    "for i,j in df_job[['Translated', 'JobTitle']].values:\n",
    "    print(i, '|', j)"
   ]
  },
  {
   "cell_type": "code",
   "execution_count": 97,
   "metadata": {},
   "outputs": [
    {
     "data": {
      "text/plain": [
       "JobTitle              0\n",
       "EducationLevelName    0\n",
       "CityName              0\n",
       "ProvinceName          0\n",
       "Description           0\n",
       "Requirement           0\n",
       "Translated            0\n",
       "dtype: int64"
      ]
     },
     "execution_count": 97,
     "metadata": {},
     "output_type": "execute_result"
    }
   ],
   "source": [
    "df_job.isna().sum()"
   ]
  },
  {
   "cell_type": "code",
   "execution_count": null,
   "metadata": {},
   "outputs": [],
   "source": []
  },
  {
   "cell_type": "code",
   "execution_count": null,
   "metadata": {},
   "outputs": [],
   "source": []
  },
  {
   "cell_type": "code",
   "execution_count": null,
   "metadata": {},
   "outputs": [],
   "source": []
  },
  {
   "cell_type": "code",
   "execution_count": null,
   "metadata": {},
   "outputs": [],
   "source": []
  },
  {
   "cell_type": "code",
   "execution_count": null,
   "metadata": {},
   "outputs": [],
   "source": []
  },
  {
   "cell_type": "code",
   "execution_count": null,
   "metadata": {},
   "outputs": [],
   "source": []
  }
 ],
 "metadata": {
  "kernelspec": {
   "display_name": "p1",
   "language": "python",
   "name": "python3"
  },
  "language_info": {
   "codemirror_mode": {
    "name": "ipython",
    "version": 3
   },
   "file_extension": ".py",
   "mimetype": "text/x-python",
   "name": "python",
   "nbconvert_exporter": "python",
   "pygments_lexer": "ipython3",
   "version": "3.10.0"
  },
  "orig_nbformat": 4
 },
 "nbformat": 4,
 "nbformat_minor": 2
}
