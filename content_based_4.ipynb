{
 "cells": [
  {
   "attachments": {},
   "cell_type": "markdown",
   "metadata": {},
   "source": [
    "Mencoba fitur translate"
   ]
  },
  {
   "cell_type": "code",
   "execution_count": 1,
   "metadata": {},
   "outputs": [],
   "source": [
    "import pyodbc\n",
    "import re\n",
    "\n",
    "import numpy as np\n",
    "import pandas as pd\n",
    "\n",
    "from sqlalchemy import create_engine\n",
    "from datetime import datetime, timedelta\n",
    "\n",
    "from Sastrawi.StopWordRemover.StopWordRemoverFactory import StopWordRemoverFactory\n",
    "from Sastrawi.Stemmer.StemmerFactory import StemmerFactory\n",
    "\n",
    "# import nltk\n",
    "# nltk.download('stopwords')\n",
    "from nltk.corpus import stopwords\n",
    "\n",
    "from googletrans import Translator\n",
    "\n",
    "from FlaskApp.transform import *"
   ]
  },
  {
   "cell_type": "code",
   "execution_count": 2,
   "metadata": {},
   "outputs": [],
   "source": [
    "pd.set_option('display.max_columns', None)\n",
    "pd.set_option('display.max_colwidth', 50)"
   ]
  },
  {
   "cell_type": "code",
   "execution_count": 3,
   "metadata": {},
   "outputs": [],
   "source": [
    "user = 'huda'\n",
    "password = 'Vancha12'\n",
    "host = '127.0.0.1'\n",
    "port = 1433\n",
    "database = 'HRSystemDB'\n",
    "\n",
    "\n",
    "def get_connection():         \n",
    "    return create_engine(\n",
    "        url=f\"mssql+pyodbc://{user}:{password}@{host}:{port}/{database}?driver=SQL Server\",\n",
    "    )\n",
    "\n",
    "engine = get_connection()\n",
    "conn = engine.connect()"
   ]
  },
  {
   "cell_type": "code",
   "execution_count": 4,
   "metadata": {},
   "outputs": [],
   "source": [
    "df_job = pd.DataFrame(engine.execute(\n",
    "            \"\"\"\n",
    "            SELECT Job.JobID, Job.JobTitle, FunctionPosition.FunctionPositionName, EducationLevel.EducationLevelName, City.Name AS CityName, Province.Name AS ProvinceName, Major.MajorName, Job.Description, Job.Requirement\n",
    "            FROM (((((Job\n",
    "            RIGHT JOIN FunctionPosition ON Job.FunctionPositionID = FunctionPosition.FunctionPositionID)\n",
    "            RIGHT JOIN EducationLevel ON Job.EducationLevelID = EducationLevel.EducationLevelID)\n",
    "            RIGHT JOIN City ON Job.CityID = City.CityID)\n",
    "            RIGHT JOIN Province ON Job.ProvinceID = Province.ProvinceID)\n",
    "            RIGHT JOIN Major ON Job.MajorID = Major.MajorID)\n",
    "            WHERE JobStatus='Publish'\n",
    "            \"\"\"\n",
    "        ))"
   ]
  },
  {
   "cell_type": "code",
   "execution_count": 93,
   "metadata": {},
   "outputs": [],
   "source": [
    "def change_slangwords(slangwords, teks):\n",
    "    if type(teks) == str:\n",
    "        teks = teks.split(' ')\n",
    "    for i in range(len(teks)):\n",
    "        if teks[i] in slangwords:\n",
    "            teks[i] = slangwords[teks[i]]\n",
    "    return teks\n",
    "\n",
    "def translate_teks(translator: Translator, teks):\n",
    "    if teks == '':\n",
    "        return ''\n",
    "    result = translator.translate(teks, dest='id', src='en').text\n",
    "    if result != teks:\n",
    "        print(f'Translating {teks[:25]} ...')\n",
    "    return result.lower()\n",
    "\n",
    "def stemmer_words(stemmer, teks):\n",
    "    if teks == '':\n",
    "        return ''\n",
    "    return stemmer.stem(teks)"
   ]
  },
  {
   "cell_type": "code",
   "execution_count": null,
   "metadata": {},
   "outputs": [],
   "source": [
    "df_job.fillna('', inplace=True)\n",
    "\n",
    "translator = Translator(service_urls=['translate.googleapis.com'])\n",
    "factory = StemmerFactory()\n",
    "stemmer = factory.create_stemmer()\n",
    "\n",
    "focus_cleansing = df_job.Description.copy().map(clean_text).map(maintain_alphabet).map(remove_single).map(remove_morespace).apply(lambda x: translate_teks(translator, x)).apply(lambda x: stemmer_words(stemmer, x)).apply(lambda x: x.split(' '))"
   ]
  },
  {
   "cell_type": "code",
   "execution_count": 119,
   "metadata": {},
   "outputs": [
    {
     "data": {
      "text/plain": [
       "'PRE-PROCESSING of \"JOB\"\\n1. GENERAL\\n    a. set index to JobID\\n    b. specify columns name consider the column data type (STR, INT, BOOL)\\n2. STR ==| CityName, ProvinceName, EducationLevelName, MajorName, DriverLicenseType, Gender, MaritalStatus, JobTitle, FunctionPositionName, Description, Requirement\\n    a. fillna with \\'\\'\\n    b. replace \\'none\\' with \\'\\'\\n    c. casting to str\\n        -> lower\\n    d. cleansing\\n        -> JobTitle\\n            - translate\\n            - lower\\n        -> FunctionPositionName\\n            - translate\\n            - lower\\n        -> MajorName\\n            - translate\\n            - lower\\n        -> Description\\n            - clean text\\n            - maintain alphabet\\n            - remove single\\n            - remove more space\\n            - translate\\n                -> lower\\n            - stemm\\n            - tokenize\\n            - remove slangwords\\n            - remove stopwords\\n            - join\\n        -> Requirement\\n            - clean text\\n            - maintain alphabet\\n            - remove single\\n            - remove more space\\n            - translate\\n                -> lower\\n            - stemm\\n            - tokenize\\n            - remove slangwords\\n            - remove stopwords\\n            - join\\n3. INT ==| UsiaMax, SalaryMin, SalaryMax\\n    a. fillna with \\'\\'\\n    b. replace \\'\\' with 0\\n    c. casting to int\\n    d. salary mean\\n4. BOOL ==| UsingGlasses\\n    a. fillna with \\'\\'\\n    b. casting to str\\n    c. lower\\n'"
      ]
     },
     "execution_count": 119,
     "metadata": {},
     "output_type": "execute_result"
    }
   ],
   "source": [
    "'''PRE-PROCESSING of \"JOB\"\n",
    "1. GENERAL\n",
    "    a. set index to JobID\n",
    "    b. specify columns name consider the column data type (STR, INT, BOOL)\n",
    "2. STR ==| CityName, ProvinceName, EducationLevelName, MajorName, DriverLicenseType, Gender, MaritalStatus, JobTitle, FunctionPositionName, Description, Requirement\n",
    "    a. fillna with ''\n",
    "    b. replace 'none' with ''\n",
    "    c. casting to str\n",
    "        -> lower\n",
    "    d. cleansing\n",
    "        -> JobTitle\n",
    "            - translate\n",
    "            - lower\n",
    "        -> FunctionPositionName\n",
    "            - translate\n",
    "            - lower\n",
    "        -> MajorName\n",
    "            - translate\n",
    "            - lower\n",
    "        -> Description\n",
    "            - clean text\n",
    "            - maintain alphabet\n",
    "            - remove single\n",
    "            - remove more space\n",
    "            - translate\n",
    "                -> lower\n",
    "            - stemm\n",
    "            - tokenize\n",
    "            - remove slangwords\n",
    "            - remove stopwords\n",
    "            - join\n",
    "        -> Requirement\n",
    "            - clean text\n",
    "            - maintain alphabet\n",
    "            - remove single\n",
    "            - remove more space\n",
    "            - translate\n",
    "                -> lower\n",
    "            - stemm\n",
    "            - tokenize\n",
    "            - remove slangwords\n",
    "            - remove stopwords\n",
    "            - join\n",
    "    e. concatenate\n",
    "        -> JobTitle - FunctionPositionName => JobTitlePosition\n",
    "            - Drop FunctionPositionName\n",
    "        -> Description - Requirement => DescriptionRequirement\n",
    "            - Drop Requirement\n",
    "3. INT ==| UsiaMax, SalaryMin, SalaryMax\n",
    "    a. fillna with ''\n",
    "    b. replace '' with 0\n",
    "    c. casting to int\n",
    "    d. find SalaryMean\n",
    "    e. rename SalaryMin\n",
    "    f. drop SalaryMax\n",
    "4. BOOL ==| UsingGlasses\n",
    "    a. fillna with ''\n",
    "    b. casting to str\n",
    "    c. lower\n",
    "'''\n",
    "\n",
    "'''PRE-PROCESSING of Applicant\n",
    "1. GENERAL\n",
    "    a. fillna with ''\n",
    "2. APPLICANT\n",
    "    a. Age\n",
    "        -> pick_date\n",
    "        -> filter_date 1958-2006\n",
    "        -> get_age\n",
    "        -> fillna with 0\n",
    "        -> drop Dob\n",
    "3. EDUCATION\n",
    "    a. DateStart\n",
    "        -> pick_date\n",
    "        -> filter_date 1980-2023\n",
    "    b. DateEnd\n",
    "        -> pick_date\n",
    "        -> filter_date 1980-2023\n",
    "    c. select DateStart & DateEnd where DateStart and DateEnd is not None\n",
    "    d. pick last education by sort, groupby, and agg\n",
    "    e. drop DateStart and DateEnd\n",
    "4. Experience\n",
    "    a. DateFrom\n",
    "        -> pick_date\n",
    "        -> filter_date 1980-2023\n",
    "    b. DateTo\n",
    "        -> pick_date\n",
    "        -> filter_date 1980-2023\n",
    "    c. select DateFrom & DateTo where DateFrom and DateTo is not None\n",
    "    d. substract_months\n",
    "    e. \n",
    "'''"
   ]
  },
  {
   "cell_type": "code",
   "execution_count": 100,
   "metadata": {},
   "outputs": [],
   "source": [
    "stopwords = [i[0] for i in pd.read_csv('data/stopwords.csv').astype(str).values] + ['usia', 'maksimal', 'didik', 'minimal', 'laki', 'perempuan', 'alam', 'milik', 'sd', 'smp', 'sma', 's1', 's2', 's3', 'd1', 'd2', 'd3', 'd4', 'kuasa', 'awas', 'kumpul', 'pria', 'jurus', 'sedia', 'sarjana', 'diploma', 'magister', 'bidang', 'kandidat', 'skill', 'oriented', 'tampil', 'tarik', 'good', 'up', 'paham', 'intermediate', 'baca', 'gambar', 'badan', 'laku', 'laku', 'kena', 'shooting', 'meni', 'buat', 'ipk', 'lulus', 'suka', 'atu', 'hadap', 'penuh', 'jam', 'tara', 'non', 'warna', 'warni', 'smk', 'shift', 'familiar', 'laksana', 'gelar', 'sitac', 'tipu', 'nya', 'ii', 'iii', 'salam', 'to', 'wwm', 'kece', 'kesiap', 'seluru', 'angkat', 'usaha', 'upaya', 'masuk', 'kait', 'syarat', 'susun', 'awat', 'masuk', 'tugas', ]"
   ]
  },
  {
   "cell_type": "code",
   "execution_count": 101,
   "metadata": {},
   "outputs": [],
   "source": [
    "slangwords = {\n",
    "    'max': 'maksimal',\n",
    "    'div': 'divisi',\n",
    "    'tenant': 'sewa',\n",
    "    'hokum': 'hukum',\n",
    "    'branding': 'promosi',\n",
    "    'stok': 'sedia',\n",
    "    'termasukaplikasikomputer': 'komputer',\n",
    "    'telekomunikais': 'telekomunikasi',\n",
    "    'perinci': 'rinci',\n",
    "    'risalah': 'surat',\n",
    "    'mereview': 'ulas',\n",
    "    'klien': 'langgan',\n",
    "    'thn': 'tahun',\n",
    "    'th': 'tahun',\n",
    "    'min': 'minimal',\n",
    "    'miniman': 'minimal',\n",
    "    'jurnalid': 'jurnalis',\n",
    "    'mayob': 'myob',\n",
    "    'paja': 'pajak',\n",
    "    'perban': 'bank',\n",
    "    'maksimum': 'maksimal',\n",
    "    'minimum': 'minimal',\n",
    "    'bhs': 'bahasa',\n",
    "    'pengorganisasia': 'organisasi',\n",
    "    'analitis': 'analisis',\n",
    "    'analisa': 'analisis',\n",
    "    'memimiliki': 'milik',\n",
    "    'manejer': 'manajer',\n",
    "    'menejer': 'manajer',\n",
    "    'bussines': 'bisnis',\n",
    "    'development': 'kembang',\n",
    "\n",
    "    'order': 'pesan',\n",
    "    'driver': 'supir',\n",
    "    'mengkoordinir': 'koordinasi',\n",
    "    'mensupport': 'dukung',\n",
    "    'padapenyediaan': 'sedia',\n",
    "    'file': 'berkas',\n",
    "    'mesan': 'pesan',\n",
    "    'base': 'dasar',\n",
    "    'maximum': 'maksimal',\n",
    "    'accounting': 'akuntansi',\n",
    "    'system': 'sistem',\n",
    "    'building': 'bangun',\n",
    "    'maintenance': 'pelihara',\n",
    "    'team': 'tim',\n",
    "    'deadline': 'tenggat',\n",
    "    'vehicle': 'kendara',\n",
    "    'networking': 'jaring',\n",
    "    'installation': 'instalasi',\n",
    "    'trouble': 'masalah',\n",
    "    'presentation': 'presentasi',\n",
    "    'customer': 'langgan',\n",
    "    'satisfaction': 'puas',\n",
    "    'planning': 'rencana',\n",
    "    'tax': 'pajak',\n",
    "    'mobile': 'seluler',\n",
    "    'fast': 'cepat',\n",
    "    'solving': 'pecah',\n",
    "    'decision': 'putus',\n",
    "    'making': 'buat',\n",
    "    'marketing': 'pasar',\n",
    "    'communication': 'komunikasi',\n",
    "    'negotiation': 'negosiasi',\n",
    "    'problem': 'masalah',\n",
    "    'leasing': 'sewa',\n",
    "    'service': 'layan',\n",
    "    'leadership': 'pimpin',\n",
    "    'manager': 'manajemen',\n",
    "    'auditing': 'periksa',\n",
    "    'auditor': 'periksa',\n",
    "    'audit': 'periksa',\n",
    "    'apartment': 'apartemen',\n",
    "    'engineering': 'teknik',\n",
    "    'chief': 'pimpin',\n",
    "    'general': 'umum',\n",
    "    'research': 'teliti',\n",
    "    'trend': 'cenderung',\n",
    "    'cash': 'uang',\n",
    "    'flow': 'alir',\n",
    "    'payment': 'bayar',\n",
    "    'supplier': 'pasok',\n",
    "    'finance': 'uang',\n",
    "    'journal': 'jurnal',\n",
    "    'standing': 'duduk',\n",
    "    'charge': 'biaya',\n",
    "    'cleaning': 'bersih',\n",
    "    'lift': 'angkat',\n",
    "    'adjustment': 'atur',\n",
    "    'correction': 'koreksi',\n",
    "    'schedule': 'jadwal',\n",
    "    'cust': 'langgan',\n",
    "\n",
    "\n",
    "    'memposting': 'unggah',\n",
    "    'utilitas': 'guna',\n",
    "    'ms': 'microsoft',\n",
    "    'perbankan': 'bank',\n",
    "    'spv': 'supervisor',\n",
    "    'komunikatif': 'komunikasi',\n",
    "    'perencanaan': 'rencana',\n",
    "    'operasionalisasi': 'operasional',\n",
    "    'diatahkan': 'arah',\n",
    "}"
   ]
  },
  {
   "cell_type": "code",
   "execution_count": 116,
   "metadata": {},
   "outputs": [
    {
     "data": {
      "text/plain": [
       "'selenggara'"
      ]
     },
     "execution_count": 116,
     "metadata": {},
     "output_type": "execute_result"
    }
   ],
   "source": [
    "stemmer.stem('menyelenggarakan')"
   ]
  },
  {
   "cell_type": "code",
   "execution_count": null,
   "metadata": {},
   "outputs": [],
   "source": [
    "focus_cleansing.apply(lambda x: change_slangwords(slangwords, x)).apply(lambda x: [i for i in x if i not in stopwords]).values[30:45]"
   ]
  },
  {
   "attachments": {},
   "cell_type": "markdown",
   "metadata": {},
   "source": [
    "Sebelumnya"
   ]
  },
  {
   "cell_type": "code",
   "execution_count": null,
   "metadata": {},
   "outputs": [],
   "source": []
  },
  {
   "cell_type": "code",
   "execution_count": null,
   "metadata": {},
   "outputs": [],
   "source": []
  },
  {
   "cell_type": "code",
   "execution_count": null,
   "metadata": {},
   "outputs": [],
   "source": []
  },
  {
   "cell_type": "code",
   "execution_count": null,
   "metadata": {},
   "outputs": [],
   "source": []
  },
  {
   "cell_type": "code",
   "execution_count": null,
   "metadata": {},
   "outputs": [],
   "source": []
  },
  {
   "cell_type": "code",
   "execution_count": null,
   "metadata": {},
   "outputs": [],
   "source": []
  },
  {
   "cell_type": "code",
   "execution_count": 122,
   "metadata": {},
   "outputs": [],
   "source": [
    "df_job.set_index(['JobID'], inplace=True)\n",
    "df_job.fillna('', inplace=True)\n",
    "\n",
    "df_job = df_job.applymap(str.lower)\n",
    "df_job.EducationLevelName = df_job.EducationLevelName.replace('none', '')\n",
    "\n",
    "translator = Translator(service_urls=['translate.googleapis.com'])\n",
    "\n",
    "df_job.JobTitle = df_job.JobTitle.apply(lambda x: translator.translate(x, dest='id').text.lower())\n",
    "df_job.FunctionPositionName = df_job.FunctionPositionName.apply(lambda x: translator.translate(x, dest='id').text.lower())\n",
    "df_job.MajorName = df_job.MajorName.apply(lambda x: translator.translate(x, dest='id').text.lower())\n",
    "\n",
    "df_job.Description = df_job.Description.map(clean_text).apply(lambda x: translator.translate(x, dest='id').text.lower())\n",
    "df_job.Requirement = df_job.Requirement.map(clean_text).apply(lambda x: translator.translate(x, dest='id').text.lower())"
   ]
  },
  {
   "cell_type": "code",
   "execution_count": 124,
   "metadata": {},
   "outputs": [],
   "source": [
    "df_job['JobTitle'] = df_job.JobTitle.str.cat(\n",
    "    df_job.FunctionPositionName.str.cat(\n",
    "        df_job.MajorName\n",
    "    , sep=' ')\n",
    ", sep=' ').apply(lambda x: ' '.join(set(x.split(' ')))).map(remove_standalonesymbols).map(remove_parenthesesnumber).map(remove_morespace)\n",
    "\n",
    "df_job.drop(columns=['FunctionPositionName', 'MajorName'], inplace=True)"
   ]
  },
  {
   "cell_type": "code",
   "execution_count": 101,
   "metadata": {},
   "outputs": [
    {
     "name": "stdout",
     "output_type": "stream",
     "text": [
      "direksi sekretaris | direksi sekretaris\n",
      "staf desain grafis | design desain staff graphic grafis\n",
      "toko jurusan semua staf awak kapal | jurusan staff crew semua outlet\n",
      "toko jurusan sma segala awak kapal Pengelola | jurusan sma crew segala outlet manager\n",
      "pengawas akuntansi | accounting supervisor akuntansi\n",
      "hukum Pengelola | hukum manager legal\n",
      "umum qc lapangan sipil operasi teknik | general qc operation lapangan sipil teknik\n",
      "pajak pengawas akuntansi | pajak accounting supervisor akuntansi\n",
      "riset jurusan semua staf perkembangan bisnis | research jurusan staff semua business & development\n",
      "umum jurusan perselingkuhan semua staf | general jurusan staff semua affair\n",
      "keuangan staf akuntansi  | staff akuntansi & accounting finance\n",
      "montir listrik jurusan bm-saya semua spv pemeliharaan | bm-me maintenance jurusan semua spv electician 2\n",
      "Properti jurusan semua pemasaran mendukung | support property jurusan semua marketing\n",
      "staf informatika dia teknik | informatika staff it teknik\n",
      "direksi sekretaris semua jurusan | direksi sekretaris semua jurusan\n",
      "hukum staf | hukum staff legal\n",
      " jurusan guru semua tempat penitipan anak |  teacher jurusan guru semua daycare\n",
      "jurusan marcomm semua komunikasi pemasaran | communication jurusan (marcomm) semua marketing\n",
      "jurusan guru guru semua bahasa Mandarin | mandarin teacher jurusan guru semua (laoshi) bahasa\n",
      "pengawas keuangan akuntansi  | supervisor & akuntansi accounting finance\n",
      "sewa asst jurusan mall semua perkembangan bisnis Pengelola | manager jurusan mall semua business leasing development asst.\n",
      "direksi sekretaris semua jurusan | direksi sekretaris semua jurusan\n",
      " akun jurusan semua petugas pemasaran eksekutif | / jurusan semua marketing account executive officer\n",
      "montir listrik jurusan bm-saya semua staf pemeliharaan | bm-me maintenance jurusan staff electician semua\n",
      "petugas sipil proyek teknik | teknik project sipil officer\n",
      "hukum staf litigasi | hukum staff legal litigasi\n",
      "ketua akuntansi | chief accounting akuntansi\n",
      "hukum staf | hukum staff legal\n",
      "staf keuangan akuntansi auditor | accounting staff & akuntansi auditor finance\n",
      "rekayasa staf sipil teknik | engineering staff sipil teknik\n",
      "& senior keuangan akuntansi | senior akuntansi & accounting finance\n",
      "umum senior jurusan perselingkuhan semua staf | general senior staff jurusan semua affair\n",
      "dia informatika mendukung teknik | informatika it support teknik\n",
      "umum jurusan perselingkuhan semua pengawas | general jurusan supervisor semua affair\n",
      " lokasi jurusan semua lapangan surveyor |  lokasi jurusan semua lapangan surveyor\n",
      "senior spv jurusan semua perkembangan bisnis | senior/spv jurusan semua business development\n",
      "umum bangunan jurusan semua operasi Pengelola | general jurusan operation semua manager building\n",
      "umum operasional jurusan hotel semua Pengelola | general manager jurusan hotel semua operational\n",
      "jurusan semua staf pemasaran eksekutif | jurusan staff semua marketing executive\n",
      "keuangan akuntansi Pengelola | finance akuntansi & accounting manager\n",
      "umum jurusan perselingkuhan semua ke | general (ga) jurusan semua affair 2\n",
      "desain media visual petugas komunikasi perkembangan sosial bisnis | desain media visual social komunikasi business officer development\n"
     ]
    }
   ],
   "source": [
    "for i,j in df_job[['Translated', 'JobTitle']].values:\n",
    "    print(i, '|', j)"
   ]
  },
  {
   "cell_type": "code",
   "execution_count": 97,
   "metadata": {},
   "outputs": [
    {
     "data": {
      "text/plain": [
       "JobTitle              0\n",
       "EducationLevelName    0\n",
       "CityName              0\n",
       "ProvinceName          0\n",
       "Description           0\n",
       "Requirement           0\n",
       "Translated            0\n",
       "dtype: int64"
      ]
     },
     "execution_count": 97,
     "metadata": {},
     "output_type": "execute_result"
    }
   ],
   "source": [
    "df_job.isna().sum()"
   ]
  },
  {
   "cell_type": "code",
   "execution_count": null,
   "metadata": {},
   "outputs": [],
   "source": []
  },
  {
   "cell_type": "code",
   "execution_count": null,
   "metadata": {},
   "outputs": [],
   "source": []
  },
  {
   "cell_type": "code",
   "execution_count": null,
   "metadata": {},
   "outputs": [],
   "source": []
  },
  {
   "cell_type": "code",
   "execution_count": null,
   "metadata": {},
   "outputs": [],
   "source": []
  },
  {
   "cell_type": "code",
   "execution_count": null,
   "metadata": {},
   "outputs": [],
   "source": []
  },
  {
   "cell_type": "code",
   "execution_count": null,
   "metadata": {},
   "outputs": [],
   "source": []
  }
 ],
 "metadata": {
  "kernelspec": {
   "display_name": "p1",
   "language": "python",
   "name": "python3"
  },
  "language_info": {
   "codemirror_mode": {
    "name": "ipython",
    "version": 3
   },
   "file_extension": ".py",
   "mimetype": "text/x-python",
   "name": "python",
   "nbconvert_exporter": "python",
   "pygments_lexer": "ipython3",
   "version": "3.10.0"
  },
  "orig_nbformat": 4
 },
 "nbformat": 4,
 "nbformat_minor": 2
}
