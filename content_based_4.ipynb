{
 "cells": [
  {
   "attachments": {},
   "cell_type": "markdown",
   "metadata": {},
   "source": [
    "Mencoba fitur translate"
   ]
  },
  {
   "cell_type": "code",
   "execution_count": 55,
   "metadata": {},
   "outputs": [],
   "source": [
    "import pyodbc\n",
    "import re\n",
    "\n",
    "import numpy as np\n",
    "import pandas as pd\n",
    "\n",
    "from sqlalchemy import create_engine\n",
    "from datetime import datetime, timedelta\n",
    "\n",
    "from Sastrawi.StopWordRemover.StopWordRemoverFactory import StopWordRemoverFactory\n",
    "from Sastrawi.Stemmer.StemmerFactory import StemmerFactory\n",
    "\n",
    "# import nltk\n",
    "# nltk.download('stopwords')\n",
    "from nltk.corpus import stopwords\n",
    "\n",
    "from googletrans import Translator\n",
    "\n",
    "from FlaskApp.transform import *"
   ]
  },
  {
   "cell_type": "code",
   "execution_count": 2,
   "metadata": {},
   "outputs": [],
   "source": [
    "pd.set_option('display.max_columns', None)\n",
    "pd.set_option('display.max_colwidth', 50)"
   ]
  },
  {
   "cell_type": "code",
   "execution_count": 3,
   "metadata": {},
   "outputs": [],
   "source": [
    "user = 'huda'\n",
    "password = 'Vancha12'\n",
    "host = '127.0.0.1'\n",
    "port = 1433\n",
    "database = 'HRSystemDB'\n",
    "\n",
    "\n",
    "def get_connection():         \n",
    "    return create_engine(\n",
    "        url=f\"mssql+pyodbc://{user}:{password}@{host}:{port}/{database}?driver=SQL Server\",\n",
    "    )\n",
    "\n",
    "engine = get_connection()\n",
    "conn = engine.connect()"
   ]
  },
  {
   "cell_type": "code",
   "execution_count": 30,
   "metadata": {},
   "outputs": [],
   "source": [
    "df_job = pd.DataFrame(engine.execute(\n",
    "            \"\"\"\n",
    "            SELECT Job.JobID, Job.JobTitle, FunctionPosition.FunctionPositionName, EducationLevel.EducationLevelName, City.Name AS CityName, Province.Name AS ProvinceName, Major.MajorName, Job.Description, Job.Requirement\n",
    "            FROM (((((Job\n",
    "            RIGHT JOIN FunctionPosition ON Job.FunctionPositionID = FunctionPosition.FunctionPositionID)\n",
    "            RIGHT JOIN EducationLevel ON Job.EducationLevelID = EducationLevel.EducationLevelID)\n",
    "            RIGHT JOIN City ON Job.CityID = City.CityID)\n",
    "            RIGHT JOIN Province ON Job.ProvinceID = Province.ProvinceID)\n",
    "            RIGHT JOIN Major ON Job.MajorID = Major.MajorID)\n",
    "            WHERE JobStatus='Publish'\n",
    "            \"\"\"\n",
    "        ))"
   ]
  },
  {
   "cell_type": "code",
   "execution_count": 49,
   "metadata": {},
   "outputs": [],
   "source": [
    "def change_slangwords(teks):\n",
    "    if type(teks) == str:\n",
    "        teks = teks.split(' ')\n",
    "    for i in range(len(teks)):\n",
    "        if teks[i] in slangwords:\n",
    "            teks[i] = slangwords[teks[i]]\n",
    "    return teks\n",
    "\n",
    "def translate_teks(teks):\n",
    "    result = translator.translate(teks, dest='id').text\n",
    "    if result != teks:\n",
    "        print(f'Translating {teks[:25]} ...')\n",
    "    return result"
   ]
  },
  {
   "cell_type": "code",
   "execution_count": 50,
   "metadata": {},
   "outputs": [
    {
     "name": "stdout",
     "output_type": "stream",
     "text": [
      "Translating maximum age years old can ...\n",
      "Translating candidate must possess at ...\n",
      "Translating has degree in education m ...\n",
      "Translating maximum age years old min ...\n"
     ]
    }
   ],
   "source": [
    "df_job.fillna('', inplace=True)\n",
    "\n",
    "translator = Translator(service_urls=['translate.googleapis.com'])\n",
    "\n",
    "focus_cleansing = df_job.Requirement.copy().map(clean_text).map(maintain_alphabet).map(remove_single).map(remove_morespace).apply(translate_teks).apply(lambda x: x.split(' '))"
   ]
  },
  {
   "cell_type": "code",
   "execution_count": 51,
   "metadata": {},
   "outputs": [],
   "source": [
    "stopwords = [i[0] for i in pd.read_csv('data/stopwords.csv').astype(str).values] + ['usia', 'maksimal', 'tahun', 'pendidikan', 'minimal', 'jurusan', 'pengalaman', 'sebagai', 'laki', 'perempuan', 'memiliki', 'penampilan', 'terbiasa', 'dibidang', 'disukai', 'dibawah', 'bidang', 'ipk', 'menguasai', 'perkantoran', 'bersedia', 'memiliki', 'diutamakan', 'sd', 'up', 'paham', 'menguasai', 'ga', 'pengumpulan', 'gelar', 'setara', 'bidangnya', 'kemampuan', 'pria', 'pengetahuan', 'pekerja', 'berpenampilan', 'years', 'age', 'old', 'with', 'bachelor', 'degree', 'be', 'must', 'candidate', 'gpa', 'in']"
   ]
  },
  {
   "cell_type": "code",
   "execution_count": 52,
   "metadata": {},
   "outputs": [],
   "source": [
    "slangwords = {\n",
    "    'max': 'maksimal',\n",
    "    'maximum': 'maksimal',\n",
    "    'thn': 'tahun',\n",
    "    'th': 'tahun',\n",
    "    'min': 'minimal',\n",
    "    'miniman': 'minimal',\n",
    "    'jurnalid': 'jurnalis',\n",
    "    'mayob': 'myob',\n",
    "}"
   ]
  },
  {
   "cell_type": "code",
   "execution_count": 54,
   "metadata": {},
   "outputs": [
    {
     "data": {
      "text/plain": [
       "array([list(['akuntansi', 'komunikasi', 'hukum', 'sekrestaris', 'direksi', 'displin', 'tanggung', 'jujur', 'inisiatif', 'komunikatif', 'presentation', 'skill', 'detail', 'orientied', 'menarik', 'proposional', 'berbahasa', 'mandarin', 'nilai', 'penempatan', 'surabaya', 'menikah']),\n",
       "       list(['desain', 'komunikasi', 'visual', 'aplikasi', 'dasar', 'desain', 'corel', 'photshop', 'komputer', 'internet', 'tekanan', 'target', 'bertanggung', 'jujur', 'kreatif']),\n",
       "       list(['good', 'looking', 'kreatif', 'keras', 'disiplin', 'komunikatif', 'murah', 'senyum']),\n",
       "       list(['kreatif', 'keras', 'disiplin', 'komunikatif', 'murah', 'senyum']),\n",
       "       list(['ekonomi', 'akuntansi', 'bahasa', 'inggris', 'aktif', 'pasif', 'good', 'computer', 'skill', 'microsoft', 'office', 'outlook', 'pdf', 'accounting', 'system', 'accurate', 'sap', 'jurnalis', 'zahir', 'myob', 'administrasi', 'transaksi', 'bank', 'pph', 'ayat', 'ppn', 'pb', 'mobile', 'tekanan', 'aplikasi', 'accounting', 'microsoft', 'excel', 'sertifikat', 'brevet', 'nilai', 'jujur', 'bertanggungjawab', 'disiplin', 'detail', 'teliti', 'jiwa', 'pemimpin']),\n",
       "       list(['hukum', 'legal', 'supervisor', 'koordinator', 'legal', 'berpengalaman', 'property', 'target', 'oriented', 'sertifikat', 'peradi', 'advokat', 'disiplin', 'tanggung', 'jujur', 'inisiatif', 'komunikatif', 'presentation', 'skill']),\n",
       "       list(['kandidat', 'bahasa', 'inggris', 'aktif', 'microsoft', 'office', 'autocad', 'internet', 'sketch', 'sap', 'intermediate', 'membaca', 'gambar', 'struktur', 'rab', 'kerja', 'customer', 'satisfaction', 'oriented', 'tekanan', 'fast', 'respon', 'diluar', 'jam', 'kerja', 'problem', 'solving', 'decision', 'making', 'teknik', 'pekerjaan', 'konstruksi', 'sehat', 'jasmani', 'rohani', 'lapangan']),\n",
       "       list(['mengusai', 'sistem', 'accounting', 'system', 'laporan', 'keuangan', 'mengawasi', 'mengkoordinasikan', 'data', 'bukti', 'transaksi', 'pelaporan', 'pajak', 'laporan', 'perpajakan', 'ppn', 'pph', 'pph', 'pph', 'pph', 'final', 'pph', 'badan', 'tax', 'planning', 'regulasi', 'perpajakan', 'berlaku', 'rekonsiliasi', 'akun', 'akun', 'pajak', 'bulanan', 'perhitungan', 'penyusunan', 'fiscal', 'perhitungan', 'pph', 'badan', 'bulanan', 'dilaporkan', 'akurat', 'accounting', 'data', 'dokumen', 'perpajakan', 'terarsip', 'rapih']),\n",
       "       list(['analisa', 'kuat', 'negosiasi', 'tekanan', 'mobile']),\n",
       "       list(['diploma', 'sederajat', 'multitasking', 'belajar', 'vehicle', 'kendaraan', 'sim', 'analisa', 'administrasi', 'tekanan']),\n",
       "       list(['kandidat', 'sarjana', 'keuangan', 'akuntansi', 'perbankan', 'posisi', 'komunikasi', 'administrasi', 'jujur', 'detail', 'teliti', 'bertanggung', 'pekerjaan', 'ms', 'office']),\n",
       "       list(['posisi', 'building', 'maintenance', 'sim', 'mobile', 'arus', 'kuat', 'arus', 'lemah', 'keras', 'jujur', 'disiplin', 'tekanan', 'ulet', 'belajar']),\n",
       "       list(['berkomunikasi', 'cermat', 'tekut', 'ulet', 'teliti', 'deadline', 'team', 'menarik']),\n",
       "       list(['teknik', 'informatika', 'teknik', 'komputer', 'networking', 'wifi', 'instalation', 'trouble', 'shooting', 'pc', 'peripheral', 'microtik', 'dhcp', 'dns', 'cctv', 'wifi', 'ubiquity', 'team', 'mandiri']),\n",
       "       list(['kandidat', 'sarjana', 'IPK', 'fasih', 'berbahasa', 'inggris', 'lisan', 'tulisan', 'menarik', 'menarik', 'keunggulan', 'komunikasi', 'interpersonal', 'skill', 'respon', 'cepat', 'disiplin', 'ditempatkan', 'jakarta', 'pusat'])],\n",
       "      dtype=object)"
      ]
     },
     "execution_count": 54,
     "metadata": {},
     "output_type": "execute_result"
    }
   ],
   "source": [
    "focus_cleansing.apply(lambda x: change_slangwords(x)).apply(lambda x: [i for i in x if i not in stopwords]).values[:15]"
   ]
  },
  {
   "cell_type": "code",
   "execution_count": 28,
   "metadata": {},
   "outputs": [
    {
     "data": {
      "text/plain": [
       "210"
      ]
     },
     "execution_count": 28,
     "metadata": {},
     "output_type": "execute_result"
    }
   ],
   "source": [
    "35*6"
   ]
  },
  {
   "cell_type": "code",
   "execution_count": null,
   "metadata": {},
   "outputs": [],
   "source": []
  },
  {
   "cell_type": "code",
   "execution_count": null,
   "metadata": {},
   "outputs": [],
   "source": []
  },
  {
   "cell_type": "code",
   "execution_count": null,
   "metadata": {},
   "outputs": [],
   "source": []
  },
  {
   "cell_type": "code",
   "execution_count": null,
   "metadata": {},
   "outputs": [],
   "source": []
  },
  {
   "cell_type": "code",
   "execution_count": null,
   "metadata": {},
   "outputs": [],
   "source": []
  },
  {
   "cell_type": "code",
   "execution_count": 122,
   "metadata": {},
   "outputs": [],
   "source": [
    "df_job.set_index(['JobID'], inplace=True)\n",
    "df_job.fillna('', inplace=True)\n",
    "\n",
    "df_job = df_job.applymap(str.lower)\n",
    "df_job.EducationLevelName = df_job.EducationLevelName.replace('none', '')\n",
    "\n",
    "translator = Translator(service_urls=['translate.googleapis.com'])\n",
    "\n",
    "df_job.JobTitle = df_job.JobTitle.apply(lambda x: translator.translate(x, dest='id').text.lower())\n",
    "df_job.FunctionPositionName = df_job.FunctionPositionName.apply(lambda x: translator.translate(x, dest='id').text.lower())\n",
    "df_job.MajorName = df_job.MajorName.apply(lambda x: translator.translate(x, dest='id').text.lower())\n",
    "\n",
    "df_job.Description = df_job.Description.map(clean_text).apply(lambda x: translator.translate(x, dest='id').text.lower())\n",
    "df_job.Requirement = df_job.Requirement.map(clean_text).apply(lambda x: translator.translate(x, dest='id').text.lower())"
   ]
  },
  {
   "cell_type": "code",
   "execution_count": 124,
   "metadata": {},
   "outputs": [],
   "source": [
    "df_job['JobTitle'] = df_job.JobTitle.str.cat(\n",
    "    df_job.FunctionPositionName.str.cat(\n",
    "        df_job.MajorName\n",
    "    , sep=' ')\n",
    ", sep=' ').apply(lambda x: ' '.join(set(x.split(' ')))).map(remove_standalonesymbols).map(remove_parenthesesnumber).map(remove_morespace)\n",
    "\n",
    "df_job.drop(columns=['FunctionPositionName', 'MajorName'], inplace=True)"
   ]
  },
  {
   "cell_type": "code",
   "execution_count": 101,
   "metadata": {},
   "outputs": [
    {
     "name": "stdout",
     "output_type": "stream",
     "text": [
      "direksi sekretaris | direksi sekretaris\n",
      "staf desain grafis | design desain staff graphic grafis\n",
      "toko jurusan semua staf awak kapal | jurusan staff crew semua outlet\n",
      "toko jurusan sma segala awak kapal Pengelola | jurusan sma crew segala outlet manager\n",
      "pengawas akuntansi | accounting supervisor akuntansi\n",
      "hukum Pengelola | hukum manager legal\n",
      "umum qc lapangan sipil operasi teknik | general qc operation lapangan sipil teknik\n",
      "pajak pengawas akuntansi | pajak accounting supervisor akuntansi\n",
      "riset jurusan semua staf perkembangan bisnis | research jurusan staff semua business & development\n",
      "umum jurusan perselingkuhan semua staf | general jurusan staff semua affair\n",
      "keuangan staf akuntansi  | staff akuntansi & accounting finance\n",
      "montir listrik jurusan bm-saya semua spv pemeliharaan | bm-me maintenance jurusan semua spv electician 2\n",
      "Properti jurusan semua pemasaran mendukung | support property jurusan semua marketing\n",
      "staf informatika dia teknik | informatika staff it teknik\n",
      "direksi sekretaris semua jurusan | direksi sekretaris semua jurusan\n",
      "hukum staf | hukum staff legal\n",
      " jurusan guru semua tempat penitipan anak |  teacher jurusan guru semua daycare\n",
      "jurusan marcomm semua komunikasi pemasaran | communication jurusan (marcomm) semua marketing\n",
      "jurusan guru guru semua bahasa Mandarin | mandarin teacher jurusan guru semua (laoshi) bahasa\n",
      "pengawas keuangan akuntansi  | supervisor & akuntansi accounting finance\n",
      "sewa asst jurusan mall semua perkembangan bisnis Pengelola | manager jurusan mall semua business leasing development asst.\n",
      "direksi sekretaris semua jurusan | direksi sekretaris semua jurusan\n",
      " akun jurusan semua petugas pemasaran eksekutif | / jurusan semua marketing account executive officer\n",
      "montir listrik jurusan bm-saya semua staf pemeliharaan | bm-me maintenance jurusan staff electician semua\n",
      "petugas sipil proyek teknik | teknik project sipil officer\n",
      "hukum staf litigasi | hukum staff legal litigasi\n",
      "ketua akuntansi | chief accounting akuntansi\n",
      "hukum staf | hukum staff legal\n",
      "staf keuangan akuntansi auditor | accounting staff & akuntansi auditor finance\n",
      "rekayasa staf sipil teknik | engineering staff sipil teknik\n",
      "& senior keuangan akuntansi | senior akuntansi & accounting finance\n",
      "umum senior jurusan perselingkuhan semua staf | general senior staff jurusan semua affair\n",
      "dia informatika mendukung teknik | informatika it support teknik\n",
      "umum jurusan perselingkuhan semua pengawas | general jurusan supervisor semua affair\n",
      " lokasi jurusan semua lapangan surveyor |  lokasi jurusan semua lapangan surveyor\n",
      "senior spv jurusan semua perkembangan bisnis | senior/spv jurusan semua business development\n",
      "umum bangunan jurusan semua operasi Pengelola | general jurusan operation semua manager building\n",
      "umum operasional jurusan hotel semua Pengelola | general manager jurusan hotel semua operational\n",
      "jurusan semua staf pemasaran eksekutif | jurusan staff semua marketing executive\n",
      "keuangan akuntansi Pengelola | finance akuntansi & accounting manager\n",
      "umum jurusan perselingkuhan semua ke | general (ga) jurusan semua affair 2\n",
      "desain media visual petugas komunikasi perkembangan sosial bisnis | desain media visual social komunikasi business officer development\n"
     ]
    }
   ],
   "source": [
    "for i,j in df_job[['Translated', 'JobTitle']].values:\n",
    "    print(i, '|', j)"
   ]
  },
  {
   "cell_type": "code",
   "execution_count": 97,
   "metadata": {},
   "outputs": [
    {
     "data": {
      "text/plain": [
       "JobTitle              0\n",
       "EducationLevelName    0\n",
       "CityName              0\n",
       "ProvinceName          0\n",
       "Description           0\n",
       "Requirement           0\n",
       "Translated            0\n",
       "dtype: int64"
      ]
     },
     "execution_count": 97,
     "metadata": {},
     "output_type": "execute_result"
    }
   ],
   "source": [
    "df_job.isna().sum()"
   ]
  },
  {
   "cell_type": "code",
   "execution_count": null,
   "metadata": {},
   "outputs": [],
   "source": []
  },
  {
   "cell_type": "code",
   "execution_count": null,
   "metadata": {},
   "outputs": [],
   "source": []
  },
  {
   "cell_type": "code",
   "execution_count": null,
   "metadata": {},
   "outputs": [],
   "source": []
  },
  {
   "cell_type": "code",
   "execution_count": null,
   "metadata": {},
   "outputs": [],
   "source": []
  },
  {
   "cell_type": "code",
   "execution_count": null,
   "metadata": {},
   "outputs": [],
   "source": []
  },
  {
   "cell_type": "code",
   "execution_count": null,
   "metadata": {},
   "outputs": [],
   "source": []
  }
 ],
 "metadata": {
  "kernelspec": {
   "display_name": "p1",
   "language": "python",
   "name": "python3"
  },
  "language_info": {
   "codemirror_mode": {
    "name": "ipython",
    "version": 3
   },
   "file_extension": ".py",
   "mimetype": "text/x-python",
   "name": "python",
   "nbconvert_exporter": "python",
   "pygments_lexer": "ipython3",
   "version": "3.10.0"
  },
  "orig_nbformat": 4
 },
 "nbformat": 4,
 "nbformat_minor": 2
}
