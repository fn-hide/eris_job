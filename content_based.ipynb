{
 "cells": [
  {
   "cell_type": "code",
   "execution_count": 1,
   "metadata": {},
   "outputs": [],
   "source": [
    "import pandas as pd\n",
    "\n",
    "from sklearn.feature_extraction.text import CountVectorizer"
   ]
  },
  {
   "cell_type": "code",
   "execution_count": 16,
   "metadata": {},
   "outputs": [],
   "source": [
    "pd.set_option('display.max_colwidth', 10)\n",
    "pd.set_option('display.max_columns', None)"
   ]
  },
  {
   "cell_type": "code",
   "execution_count": 45,
   "metadata": {},
   "outputs": [],
   "source": [
    "cdf_applicant = pd.read_csv('data/cdf_applicant.csv')\n",
    "cdf_applicant_experience = pd.read_csv('data/cdf_applicant_experience.csv')\n",
    "cdf_pipeline = pd.read_csv('data/cdf_pipeline.csv')\n",
    "cdf_stage = pd.read_csv('data/cdf_stage.csv')\n",
    "cdf_job = pd.read_csv('data/cdf_job.csv')"
   ]
  },
  {
   "cell_type": "code",
   "execution_count": 46,
   "metadata": {},
   "outputs": [],
   "source": [
    "df = cdf_job[['JobID', 'Description']].dropna(how='any')"
   ]
  },
  {
   "cell_type": "code",
   "execution_count": 47,
   "metadata": {},
   "outputs": [],
   "source": [
    "bow = CountVectorizer()\n",
    "bank = bow.fit_transform(df.Description)"
   ]
  },
  {
   "cell_type": "code",
   "execution_count": 48,
   "metadata": {},
   "outputs": [],
   "source": [
    "idx = 0\n",
    "content = df.loc[idx, 'Description']"
   ]
  },
  {
   "cell_type": "code",
   "execution_count": 49,
   "metadata": {},
   "outputs": [
    {
     "data": {
      "text/plain": [
       "'under asst front office manager at gunawangsa hotel merr surabaya'"
      ]
     },
     "execution_count": 49,
     "metadata": {},
     "output_type": "execute_result"
    }
   ],
   "source": [
    "content"
   ]
  },
  {
   "cell_type": "code",
   "execution_count": 50,
   "metadata": {},
   "outputs": [],
   "source": [
    "code = bow.transform([content])"
   ]
  },
  {
   "cell_type": "code",
   "execution_count": 51,
   "metadata": {},
   "outputs": [
    {
     "data": {
      "text/plain": [
       "matrix([[0, 0, 0, ..., 0, 0, 0]], dtype=int64)"
      ]
     },
     "execution_count": 51,
     "metadata": {},
     "output_type": "execute_result"
    }
   ],
   "source": [
    "code.todense()"
   ]
  },
  {
   "cell_type": "code",
   "execution_count": 52,
   "metadata": {},
   "outputs": [],
   "source": [
    "from sklearn.metrics.pairwise import cosine_distances"
   ]
  },
  {
   "cell_type": "code",
   "execution_count": 53,
   "metadata": {},
   "outputs": [],
   "source": [
    "dist = cosine_distances(code, bank)"
   ]
  },
  {
   "cell_type": "code",
   "execution_count": 56,
   "metadata": {},
   "outputs": [
    {
     "data": {
      "text/plain": [
       "(924, 2)"
      ]
     },
     "execution_count": 56,
     "metadata": {},
     "output_type": "execute_result"
    }
   ],
   "source": [
    "df.shape"
   ]
  },
  {
   "cell_type": "code",
   "execution_count": 79,
   "metadata": {},
   "outputs": [
    {
     "data": {
      "text/plain": [
       "(924,)"
      ]
     },
     "execution_count": 79,
     "metadata": {},
     "output_type": "execute_result"
    }
   ],
   "source": [
    "dist[0].shape"
   ]
  },
  {
   "cell_type": "code",
   "execution_count": 11,
   "metadata": {},
   "outputs": [],
   "source": [
    "rec_idx = dist.argsort()[0, 1:11]"
   ]
  },
  {
   "cell_type": "code",
   "execution_count": 12,
   "metadata": {},
   "outputs": [
    {
     "data": {
      "text/html": [
       "<div>\n",
       "<style scoped>\n",
       "    .dataframe tbody tr th:only-of-type {\n",
       "        vertical-align: middle;\n",
       "    }\n",
       "\n",
       "    .dataframe tbody tr th {\n",
       "        vertical-align: top;\n",
       "    }\n",
       "\n",
       "    .dataframe thead th {\n",
       "        text-align: right;\n",
       "    }\n",
       "</style>\n",
       "<table border=\"1\" class=\"dataframe\">\n",
       "  <thead>\n",
       "    <tr style=\"text-align: right;\">\n",
       "      <th></th>\n",
       "      <th>JobID</th>\n",
       "      <th>Description</th>\n",
       "    </tr>\n",
       "  </thead>\n",
       "  <tbody>\n",
       "    <tr>\n",
       "      <th>46</th>\n",
       "      <td>57</td>\n",
       "      <td>become asst food beverages manager at gunawang...</td>\n",
       "    </tr>\n",
       "    <tr>\n",
       "      <th>271</th>\n",
       "      <td>1298</td>\n",
       "      <td>become asst chief engineering at gunawangsa ho...</td>\n",
       "    </tr>\n",
       "    <tr>\n",
       "      <th>272</th>\n",
       "      <td>1299</td>\n",
       "      <td>become asst chief accounting at gunawangsa hot...</td>\n",
       "    </tr>\n",
       "    <tr>\n",
       "      <th>133</th>\n",
       "      <td>153</td>\n",
       "      <td>become sales executive at gunawangsa hotel merr</td>\n",
       "    </tr>\n",
       "    <tr>\n",
       "      <th>807</th>\n",
       "      <td>2942</td>\n",
       "      <td>become daily worker at gunawangsa hotel merr</td>\n",
       "    </tr>\n",
       "    <tr>\n",
       "      <th>802</th>\n",
       "      <td>2937</td>\n",
       "      <td>become order taker at gunawangsa hotel merr</td>\n",
       "    </tr>\n",
       "    <tr>\n",
       "      <th>801</th>\n",
       "      <td>2936</td>\n",
       "      <td>become housekeeping supervisor at gunawangsa h...</td>\n",
       "    </tr>\n",
       "    <tr>\n",
       "      <th>16</th>\n",
       "      <td>22</td>\n",
       "      <td>becoming engineering staff at hotel gunawangsa...</td>\n",
       "    </tr>\n",
       "    <tr>\n",
       "      <th>734</th>\n",
       "      <td>2861</td>\n",
       "      <td>become kitchen staff at gunawangsa hotel merr</td>\n",
       "    </tr>\n",
       "    <tr>\n",
       "      <th>375</th>\n",
       "      <td>1411</td>\n",
       "      <td>become banquet attendant at gunawangsa hotel merr</td>\n",
       "    </tr>\n",
       "  </tbody>\n",
       "</table>\n",
       "</div>"
      ],
      "text/plain": [
       "     JobID                                        Description\n",
       "46      57  become asst food beverages manager at gunawang...\n",
       "271   1298  become asst chief engineering at gunawangsa ho...\n",
       "272   1299  become asst chief accounting at gunawangsa hot...\n",
       "133    153    become sales executive at gunawangsa hotel merr\n",
       "807   2942       become daily worker at gunawangsa hotel merr\n",
       "802   2937        become order taker at gunawangsa hotel merr\n",
       "801   2936  become housekeeping supervisor at gunawangsa h...\n",
       "16      22  becoming engineering staff at hotel gunawangsa...\n",
       "734   2861      become kitchen staff at gunawangsa hotel merr\n",
       "375   1411  become banquet attendant at gunawangsa hotel merr"
      ]
     },
     "execution_count": 12,
     "metadata": {},
     "output_type": "execute_result"
    }
   ],
   "source": [
    "df.loc[rec_idx]"
   ]
  },
  {
   "cell_type": "code",
   "execution_count": 133,
   "metadata": {},
   "outputs": [],
   "source": [
    "class ErisRecommender:\n",
    "    def __init__(self, df, col):\n",
    "        self.df = df\n",
    "        self.col = col\n",
    "        self.encoder = None\n",
    "        self.bank = None\n",
    "    \n",
    "    def fit(self):\n",
    "        self.encoder = CountVectorizer()\n",
    "        self.bank = self.encoder.fit_transform(self.df[self.col])\n",
    "\n",
    "    def recommend(self, keyword, top=10):\n",
    "        # content = df.loc[idx, self.col]\n",
    "        idx = df[self.col][df[self.col].str.contains(keyword)].index[0]\n",
    "        content = df.loc[idx, self.col]\n",
    "        print('Keyword match \"' + content + '\" content.')\n",
    "        code = self.encoder.transform([content])\n",
    "\n",
    "        dist = cosine_distances(code, self.bank)\n",
    "        self.df['Similarity'] = dist[0]\n",
    "\n",
    "        # rec_idx = dist.argsort()[0, 1:top + 1]\n",
    "        # return self.df.loc[rec_idx]\n",
    "        \n",
    "        return self.df[(self.df.Similarity < .3) & (self.df.Similarity != 0)].sort_values(by=['Similarity'], ascending=True)\n"
   ]
  },
  {
   "cell_type": "code",
   "execution_count": 134,
   "metadata": {},
   "outputs": [],
   "source": [
    "import re\n",
    "\n",
    "from transform import remove_morespace"
   ]
  },
  {
   "cell_type": "code",
   "execution_count": 135,
   "metadata": {},
   "outputs": [],
   "source": [
    "df = cdf_job[['JobID', 'Description']].dropna(how='any')"
   ]
  },
  {
   "cell_type": "code",
   "execution_count": 136,
   "metadata": {},
   "outputs": [],
   "source": [
    "stopwords = ['become', 'for', 'hotel', 'merr', 'at', 'gunawangsa', 'the', 'in', 'on', 'of', 'their', 'and', 'with'] + ['dan', 'untuk']\n",
    "df.Description = df.Description.apply(lambda x: ' '.join([y for y in x.split(' ') if y not in stopwords])).map(remove_morespace).map(str.strip)"
   ]
  },
  {
   "cell_type": "code",
   "execution_count": 137,
   "metadata": {},
   "outputs": [],
   "source": [
    "eris = ErisRecommender(df, 'Description')\n",
    "eris.fit()"
   ]
  },
  {
   "cell_type": "code",
   "execution_count": 138,
   "metadata": {},
   "outputs": [
    {
     "name": "stdout",
     "output_type": "stream",
     "text": [
      "Keyword match \"bertanggung jawab melakukan support atas segala kebutuhan marketingbertanggung jawab menerima telpon masuk baik dari klien baru ataupun klien existingmembuat penawaran harga klienmengirimkan penawaran harga kepada klienmelakukan follow up kepada klienmengelola segala kebutuhan promosi komunikasi baik hard maupun softcopymembuat materi keperluan marketing misalnya email blast korespondensi dengan klien dllmelakukan support dalam administrasi tender melakukan pengklasifikasian menjaga data datamemasukan data data ke sistem erp menjalin komunikasi yang baik dengan klien mempertahankan klien yang telah adamelakukan koordinasi dengan divisi lain yang terkait dengan kegiatan marketing misalnya maintenancemelakukan pelaporan mengenai produk yang telah disewa digunakan oleh klien misalnya laporan foto billboardmengerjakan pekerjaan marketing administrasi kesekretarisan lainnyamembuat laporan harianmengirimkan penawaran perpanjangan harga\" content.\n"
     ]
    },
    {
     "data": {
      "text/html": [
       "<div>\n",
       "<style scoped>\n",
       "    .dataframe tbody tr th:only-of-type {\n",
       "        vertical-align: middle;\n",
       "    }\n",
       "\n",
       "    .dataframe tbody tr th {\n",
       "        vertical-align: top;\n",
       "    }\n",
       "\n",
       "    .dataframe thead th {\n",
       "        text-align: right;\n",
       "    }\n",
       "</style>\n",
       "<table border=\"1\" class=\"dataframe\">\n",
       "  <thead>\n",
       "    <tr style=\"text-align: right;\">\n",
       "      <th></th>\n",
       "      <th>JobID</th>\n",
       "      <th>Description</th>\n",
       "      <th>Similarity</th>\n",
       "    </tr>\n",
       "  </thead>\n",
       "  <tbody>\n",
       "    <tr>\n",
       "      <th>13</th>\n",
       "      <td>17</td>\n",
       "      <td>bertanggung jawab melakukan support atas segal...</td>\n",
       "      <td>4.440892e-16</td>\n",
       "    </tr>\n",
       "    <tr>\n",
       "      <th>199</th>\n",
       "      <td>1224</td>\n",
       "      <td>bertanggung jawab melakukan support atas segal...</td>\n",
       "      <td>4.440892e-16</td>\n",
       "    </tr>\n",
       "    <tr>\n",
       "      <th>302</th>\n",
       "      <td>1329</td>\n",
       "      <td>bertanggung jawab melakukan support atas segal...</td>\n",
       "      <td>4.440892e-16</td>\n",
       "    </tr>\n",
       "    <tr>\n",
       "      <th>561</th>\n",
       "      <td>1639</td>\n",
       "      <td>bertanggung jawab melakukan support atas segal...</td>\n",
       "      <td>4.440892e-16</td>\n",
       "    </tr>\n",
       "    <tr>\n",
       "      <th>574</th>\n",
       "      <td>1656</td>\n",
       "      <td>bertanggung jawab melakukan support atas segal...</td>\n",
       "      <td>4.440892e-16</td>\n",
       "    </tr>\n",
       "    <tr>\n",
       "      <th>660</th>\n",
       "      <td>2769</td>\n",
       "      <td>bertanggung jawab melakukan support atas segal...</td>\n",
       "      <td>4.440892e-16</td>\n",
       "    </tr>\n",
       "    <tr>\n",
       "      <th>752</th>\n",
       "      <td>2880</td>\n",
       "      <td>bertanggung jawab melakukan support atas segal...</td>\n",
       "      <td>4.440892e-16</td>\n",
       "    </tr>\n",
       "    <tr>\n",
       "      <th>498</th>\n",
       "      <td>1566</td>\n",
       "      <td>description bertanggung jawab melakukan suppor...</td>\n",
       "      <td>2.296214e-03</td>\n",
       "    </tr>\n",
       "  </tbody>\n",
       "</table>\n",
       "</div>"
      ],
      "text/plain": [
       "     JobID                                        Description    Similarity\n",
       "13      17  bertanggung jawab melakukan support atas segal...  4.440892e-16\n",
       "199   1224  bertanggung jawab melakukan support atas segal...  4.440892e-16\n",
       "302   1329  bertanggung jawab melakukan support atas segal...  4.440892e-16\n",
       "561   1639  bertanggung jawab melakukan support atas segal...  4.440892e-16\n",
       "574   1656  bertanggung jawab melakukan support atas segal...  4.440892e-16\n",
       "660   2769  bertanggung jawab melakukan support atas segal...  4.440892e-16\n",
       "752   2880  bertanggung jawab melakukan support atas segal...  4.440892e-16\n",
       "498   1566  description bertanggung jawab melakukan suppor...  2.296214e-03"
      ]
     },
     "execution_count": 138,
     "metadata": {},
     "output_type": "execute_result"
    }
   ],
   "source": [
    "eris.recommend('sekretaris')"
   ]
  },
  {
   "cell_type": "code",
   "execution_count": 16,
   "metadata": {},
   "outputs": [
    {
     "data": {
      "text/plain": [
       "'become asst chief engineering at gunawangsa hotel merr'"
      ]
     },
     "execution_count": 16,
     "metadata": {},
     "output_type": "execute_result"
    }
   ],
   "source": [
    "df.loc[271, 'Description']"
   ]
  },
  {
   "cell_type": "code",
   "execution_count": null,
   "metadata": {},
   "outputs": [],
   "source": []
  },
  {
   "cell_type": "code",
   "execution_count": null,
   "metadata": {},
   "outputs": [],
   "source": []
  }
 ],
 "metadata": {
  "kernelspec": {
   "display_name": "eris",
   "language": "python",
   "name": "python3"
  },
  "language_info": {
   "codemirror_mode": {
    "name": "ipython",
    "version": 3
   },
   "file_extension": ".py",
   "mimetype": "text/x-python",
   "name": "python",
   "nbconvert_exporter": "python",
   "pygments_lexer": "ipython3",
   "version": "3.11.0"
  },
  "orig_nbformat": 4
 },
 "nbformat": 4,
 "nbformat_minor": 2
}
