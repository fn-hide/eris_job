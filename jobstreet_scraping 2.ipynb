{
 "cells": [
  {
   "cell_type": "code",
   "execution_count": 82,
   "metadata": {},
   "outputs": [],
   "source": [
    "import re\n",
    "import time\n",
    "import selenium\n",
    "from selenium import webdriver\n",
    "from selenium.webdriver.common.by import By\n",
    "from selenium.webdriver.support.ui import WebDriverWait\n",
    "from selenium.webdriver.support import expected_conditions as EC\n",
    "from selenium.webdriver.common.keys import Keys\n",
    "from selenium.webdriver.common.action_chains import ActionChains\n",
    "from selenium.common.exceptions import NoSuchElementException\n",
    "from glob import glob"
   ]
  },
  {
   "cell_type": "code",
   "execution_count": 5,
   "metadata": {},
   "outputs": [],
   "source": [
    "import pickle\n",
    "import os"
   ]
  },
  {
   "cell_type": "code",
   "execution_count": 6,
   "metadata": {},
   "outputs": [],
   "source": [
    "def get_var_name(var_value, namespace):\n",
    "    \"\"\"\n",
    "    Given a variable value and namespace (e.g. globals() or locals()),\n",
    "    returns the name of the variable as a string.\n",
    "    \"\"\"\n",
    "    for name in namespace:\n",
    "        if namespace[name] is var_value:\n",
    "            return name\n",
    "    return None\n",
    "\n",
    "def remove_field(element):\n",
    "    element.send_keys(Keys.CONTROL + 'A')\n",
    "    element.send_keys(Keys.DELETE)"
   ]
  },
  {
   "cell_type": "code",
   "execution_count": 7,
   "metadata": {},
   "outputs": [],
   "source": [
    "path = 'driver/chromedriver.exe'\n",
    "driver = webdriver.Chrome(path)"
   ]
  },
  {
   "cell_type": "code",
   "execution_count": 8,
   "metadata": {},
   "outputs": [],
   "source": [
    "driver.maximize_window() \n",
    "driver.minimize_window() \n",
    "driver.maximize_window() \n",
    "driver.switch_to.window(driver.current_window_handle)\n",
    "driver.implicitly_wait(10)"
   ]
  },
  {
   "cell_type": "code",
   "execution_count": 9,
   "metadata": {},
   "outputs": [],
   "source": [
    "driver.implicitly_wait(5)\n",
    "driver.get('https://www.jobstreet.co.id/')"
   ]
  },
  {
   "attachments": {},
   "cell_type": "markdown",
   "metadata": {},
   "source": [
    "Search Bar"
   ]
  },
  {
   "cell_type": "code",
   "execution_count": 213,
   "metadata": {},
   "outputs": [
    {
     "name": "stdout",
     "output_type": "stream",
     "text": [
      "Total 594 data.\n"
     ]
    }
   ],
   "source": [
    "'''next'''\n",
    "job_name = 'relation'\n",
    "\n",
    "job_title = '-'.join(job_name.split())\n",
    "driver.get(f'https://www.jobstreet.co.id/id/job-search/{job_title}-jobs-in-indonesia/')\n",
    "driver.implicitly_wait(20)\n",
    "\n",
    "jobs = []\n",
    "job_num = 1\n",
    "job_idx = 0\n",
    "total_data = driver.find_element_by_css_selector('[data-automation=\"searchResultBar\"]').text.split()[-2]\n",
    "print('Total', total_data, 'data.')"
   ]
  },
  {
   "cell_type": "code",
   "execution_count": 214,
   "metadata": {},
   "outputs": [
    {
     "name": "stdout",
     "output_type": "stream",
     "text": [
      " No.    [Scraped, Page, Total]                           Job Title                           Info\n",
      "0.           [1, 1, 594]                          Guest Relations Officer                    scraped successfully ... 😊👍\n",
      "1.           [2, 1, 594]                         CUSTOMER RELATION OFFICER                   scraped successfully ... 😊👍\n",
      "9.           [3, 1, 594]                         Customer Relations Manager                  scraped successfully ... 😊👍\n",
      "12.          [4, 1, 594]                Marketing Officer (Patient Relation Officer)         scraped successfully ... 😊👍\n",
      "14.          [5, 1, 594]         Customer Relation Officer (Primme Health & Beauty Clinic)   scraped successfully ... 😊👍\n",
      "21.          [6, 1, 594]                         Tenant Relation Supervisor                  scraped successfully ... 😊👍\n",
      "22.          [7, 1, 594]                  Investor Relations and Corporate Finance           scraped successfully ... 😊👍\n",
      "24.          [8, 1, 594]                       Legal and Industrial Relation                 scraped successfully ... 😊👍\n",
      "25.          [9, 1, 594]                       External Relation Section Head                scraped successfully ... 😊👍\n",
      "29.          [10, 1, 594]                      Government Relation Supervisor                scraped successfully ... 😊👍\n",
      "33.          [11, 2, 594]            Head of Departement Industrial Relation and Legal       scraped successfully ... 😊👍\n",
      "34.          [12, 2, 594]                        Communications Supervisor                   scraped successfully ... 😊👍\n",
      "37.          [13, 2, 594]                      BMW Customer Relations Officer                scraped successfully ... 😊👍\n",
      "42.          [14, 2, 594]                        SALES RELATION SUPERVISOR                   scraped successfully ... 😊👍\n",
      "43.          [15, 2, 594]                          Bank Relation Officer                     scraped successfully ... 😊👍\n",
      "47.          [16, 2, 594]                        Supervisor Store Relation                   scraped successfully ... 😊👍\n",
      "49.          [17, 2, 594]                 Rolls-Royce Customer Relations Executive           scraped successfully ... 😊👍\n",
      "55.          [18, 2, 594]                       Corporate Communication Dept                 scraped successfully ... 😊👍\n",
      "63.          [19, 3, 594]                        Customer Relation Officer                   scraped successfully ... 😊👍\n",
      "71.          [20, 3, 594]                           MERCHANT PARTNERSHIP                     scraped successfully ... 😊👍\n",
      "81.          [21, 3, 594]                       Customer Relation Management                 scraped successfully ... 😊👍\n",
      "82.          [22, 3, 594]                    Funding & Banking Relation Officer              scraped successfully ... 😊👍\n",
      "85.          [23, 3, 594]                           Government Relation                      scraped successfully ... 😊👍\n",
      "111.         [24, 4, 594]                     Staff-GTM & MARCOMM (SRIBAWONO)                scraped successfully ... 😊👍\n",
      "115.         [25, 4, 594]           External Relation & Land Acquisition Superintendent      scraped successfully ... 😊👍\n",
      "119.         [26, 4, 594]        Industrial Relation Section Head - Perkebunan Kelapa Sawit  scraped successfully ... 😊👍\n",
      "120.         [27, 5, 594]                         Tenant Relation Officer                    scraped successfully ... 😊👍\n",
      "123.         [28, 5, 594]                       Taspen Life Relation Officer                 scraped successfully ... 😊👍\n",
      "128.         [29, 5, 594]       Industrial Relation & Legal Supervisor - Automotive Parts Manufacture - Cikarang (B-93113) scraped successfully ... 😊👍\n",
      "133.         [30, 5, 594]                   Customer Service Relation Executive              scraped successfully ... 😊👍\n",
      "134.         [31, 5, 594]                Industrial Relation (Hubungan Industrial)           scraped successfully ... 😊👍\n",
      "140.         [32, 5, 594]             Customer Relation Officer (CRO) Aesthetic Clinic       scraped successfully ... 😊👍\n",
      "143.         [33, 5, 594]                        Community Relations Staff                   scraped successfully ... 😊👍\n",
      "156.         [34, 6, 594]                  Medical International Relation Manager            scraped successfully ... 😊👍\n",
      "160.         [35, 6, 594]                     Corporate Social Responsibility                scraped successfully ... 😊👍\n",
      "164.         [36, 6, 594]                              KOL Specialist                        scraped successfully ... 😊👍\n",
      "171.         [37, 6, 594]                Business Development Staff (Tender Staff)           scraped successfully ... 😊👍\n",
      "181.         [38, 7, 594]                             Public Relation                        scraped successfully ... 😊👍\n",
      "189.         [39, 7, 594]                                Secretary                           scraped successfully ... 😊👍\n",
      "194.         [40, 7, 594]                             Legal Specialist                       scraped successfully ... 😊👍\n",
      "207.         [41, 7, 594]           Human Resource Sr. Supervisor (Placement : Bintaro)      scraped successfully ... 😊👍\n",
      "213.         [42, 8, 594]                                STAFF HRD                           scraped successfully ... 😊👍\n",
      "215.         [43, 8, 594]                            MARKETING MANAGER                       scraped successfully ... 😊👍\n",
      "223.         [44, 8, 594]                       Digital Marketing Supervisor                 scraped successfully ... 😊👍\n",
      "224.         [45, 8, 594]                             Legal Specialist                       scraped successfully ... 😊👍\n",
      "225.         [46, 8, 594]                             Account Manager                        scraped successfully ... 😊👍\n",
      "227.         [47, 8, 594]               Mandarin Translator (Tegal/Sulawesi/Maluku)          scraped successfully ... 😊👍\n",
      "230.         [48, 8, 594]                      Finance Accounting Supervisor                 scraped successfully ... 😊👍\n",
      "244.         [49, 9, 594]                            CUSTOMER RELATION                       scraped successfully ... 😊👍\n",
      "255.         [50, 9, 594]                               SHE Officer                          scraped successfully ... 😊👍\n",
      "256.         [51, 9, 594]                       Finance & Account Executive                  scraped successfully ... 😊👍\n",
      "261.         [52, 9, 594]                        Corporate Finance Manager                   scraped successfully ... 😊👍\n",
      "262.         [53, 9, 594]                     Product & Packaging Development                scraped successfully ... 😊👍\n",
      "267.         [54, 9, 594]       INSURANCE SPECIALIST (Jakarta, Bandung, Surabaya, Klaten, Tegal, Jateng, Bali) scraped successfully ... 😊👍\n",
      "269.         [55, 9, 594]                            DIREKTUR EXECUTIVE                      scraped successfully ... 😊👍\n",
      "271.        [56, 10, 594]                           Junior Legal Counsel                     scraped successfully ... 😊👍\n",
      "275.        [57, 10, 594]                   Marketing Corporate Finance Officer              scraped successfully ... 😊👍\n",
      "277.        [58, 10, 594]                     Staff Project Operation Surabaya               scraped successfully ... 😊👍\n",
      "278.        [59, 10, 594]         Sales & Application Specialist (Ophthalmology, Surabaya)   scraped successfully ... 😊👍\n",
      "298.        [60, 10, 594]                              Data Engineer                         scraped successfully ... 😊👍\n",
      "299.        [61, 10, 594]                           Senior Data Engineer                     scraped successfully ... 😊👍\n",
      "312.        [62, 11, 594]                ERP Support Consultant - SAP Business One           scraped successfully ... 😊👍\n",
      "315.        [63, 11, 594]                      Sosial Media Spesialis Magang                 scraped successfully ... 😊👍\n",
      "319.        [64, 11, 594]                              HR Generalist                         scraped successfully ... 😊👍\n",
      "320.        [65, 11, 594]                           MAGANG PHOTO EDITOR                      scraped successfully ... 😊👍\n",
      "321.        [66, 11, 594]                           Magang Desain Grafis                     scraped successfully ... 😊👍\n",
      "327.        [67, 11, 594]              Design Studio Assistant - Project Coordinator         scraped successfully ... 😊👍\n",
      "328.        [68, 11, 594]                Course Consultant EF English First Manado           scraped successfully ... 😊👍\n",
      "329.        [69, 11, 594]                         Junior Accounting (Ubud)                   scraped successfully ... 😊👍\n",
      "341.        [70, 12, 594]                        Data Visualization Expert                   scraped successfully ... 😊👍\n",
      "361.        [71, 13, 594]                   Assistant Manager Legal & Compliance             scraped successfully ... 😊👍\n",
      "362.        [72, 13, 594]                             Sales Associate                        scraped successfully ... 😊👍\n",
      "364.        [73, 13, 594]                            Operation Manager                       scraped successfully ... 😊👍\n",
      "368.        [74, 13, 594]                             ADMIN MARKETING                        scraped successfully ... 😊👍\n",
      "379.        [75, 13, 594]             Human Resources and Learning Development Manager       scraped successfully ... 😊👍\n",
      "383.        [76, 13, 594]                               Procurement                          scraped successfully ... 😊👍\n",
      "394.        [77, 14, 594]                   Sales & Marketing (Mandarin Speaker)             scraped successfully ... 😊👍\n",
      "412.        [78, 14, 594]                              HR Generalist                         scraped successfully ... 😊👍\n",
      "420.        [79, 15, 594]                                HR Manager                          scraped successfully ... 😊👍\n",
      "432.        [80, 15, 594]                       Tax and Commercial Executive                 scraped successfully ... 😊👍\n",
      "435.        [81, 15, 594]                    Head of Sales - Ecommerce focused               scraped successfully ... 😊👍\n",
      "441.        [82, 15, 594]                            DIGITAL MARKETING                       scraped successfully ... 😊👍\n",
      "450.        [83, 16, 594]                     Research & Development Cosmetics               scraped successfully ... 😊👍\n",
      "456.        [84, 16, 594]                Commercial Head - Water Treatment Industry          scraped successfully ... 😊👍\n",
      "462.        [85, 16, 594]                             Legal Corporate                        scraped successfully ... 😊👍\n",
      "469.        [86, 16, 594]                            Legal Asst Manager                      scraped successfully ... 😊👍\n",
      "473.        [87, 16, 594]       INSURANCE SPECIALIST SYARIAH (Balikpapan, Medan, Yogyakarta, Jakarta) scraped successfully ... 😊👍\n",
      "479.        [88, 16, 594]       INSURANCE SPECIALIST (Samarinda, Banjarmasin, Singkawang, Tarakan, Palu, Batam, Jambi, Pangkal Pinang) scraped successfully ... 😊👍\n",
      "481.        [89, 17, 594]          Litigation & Claw Back Specialist (Assistant Manager)     scraped successfully ... 😊👍\n",
      "483.        [90, 17, 594]                       Marketing Corporate Finance                  scraped successfully ... 😊👍\n",
      "506.        [91, 17, 594]         Marketing Corporate Finance Officer - Leasing (B-77391)    scraped successfully ... 😊👍\n",
      "518.        [92, 18, 594]                      Office of Strategy Management                 scraped successfully ... 😊👍\n",
      "531.        [93, 18, 594]                  Head of Brokerage (Financial Services)            scraped successfully ... 😊👍\n",
      "534.        [94, 18, 594]                            Host Live streamer                      scraped successfully ... 😊👍\n",
      "544.        [95, 19, 594]                         EXTERNAL RELATION ADMIN                    scraped successfully ... 😊👍\n",
      "545.        [96, 19, 594]                           Coorporate Relations                     scraped successfully ... 😊👍\n",
      "550.        [97, 19, 594]                          Customer Relation Lead                    scraped successfully ... 😊👍\n",
      "551.        [98, 19, 594]                        Customer Relation Officer                   scraped successfully ... 😊👍\n",
      "554.        [99, 19, 594]                 Mobile Customer Relations Representative           scraped successfully ... 😊👍\n",
      "558.        [100, 19, 594]                            Loyalty Officer                        scraped successfully ... 😊👍\n",
      "561.        [101, 19, 594]                            Teritory Officer                       scraped successfully ... 😊👍\n",
      "566.        [102, 19, 594]              Quality Assurance Section Head (Kode : QASH)         scraped successfully ... 😊👍\n",
      "567.        [103, 19, 594]                          Business Development                     scraped successfully ... 😊👍\n",
      "572.        [104, 20, 594]                Air Logistics Customer Care Specialists            scraped successfully ... 😊👍\n",
      "573.        [105, 20, 594]                            Content Creator                        scraped successfully ... 😊👍\n",
      "580.        [106, 20, 594]                             Data Engineer                         scraped successfully ... 😊👍\n",
      "581.        [107, 20, 594]                          Senior Data Engineer                     scraped successfully ... 😊👍\n",
      "> raise break <\n"
     ]
    }
   ],
   "source": [
    "print('No.'.center(5), '[Scraped, Page, Total]'.center(25), 'Job Title'.center(60), 'Info')\n",
    "\n",
    "while True:\n",
    "    job_cards = driver.find_elements_by_css_selector('[data-search-sol-meta]')\n",
    "\n",
    "    try:\n",
    "        curr_page = int(driver.find_element_by_id('pagination').get_attribute('value'))\n",
    "        driver.implicitly_wait(2)\n",
    "    except:\n",
    "        curr_page = 1\n",
    "\n",
    "    for job_card in job_cards:\n",
    "        job = {}\n",
    "\n",
    "        # scroll\n",
    "        driver.execute_script('arguments[0].scrollIntoView({block: \"end\"});', job_card)\n",
    "\n",
    "        try:\n",
    "            title = job_card.text.split('\\n')[0]\n",
    "            title_class = driver.find_element_by_xpath(f\"//span[contains(text(), '{title}')]\").get_attribute('class').split()\n",
    "\n",
    "            if len(title_class) > 1:\n",
    "                job_idx += 1\n",
    "                # print('❌❌❌ Continued!')\n",
    "                continue\n",
    "        except:\n",
    "            pass\n",
    "\n",
    "        try:\n",
    "            job_card.find_element_by_css_selector('[rel]').click()\n",
    "            driver.implicitly_wait(10)\n",
    "        except:\n",
    "            job_card.find_element_by_css_selector('[rel]').click()\n",
    "            driver.implicitly_wait(10)\n",
    "        \n",
    "\n",
    "        '''scraping'''\n",
    "        # job header: list of header information\n",
    "        try:\n",
    "            job_header = driver.find_element_by_css_selector('[data-automation=\"jobDetailsHeader\"]').text.split('\\n')[:3]\n",
    "            driver.implicitly_wait(5)\n",
    "\n",
    "            job['Title'], job['Company'], job['Area'] = job_header\n",
    "        except:\n",
    "            print('❌ JobTitle raise exception!')\n",
    "            job['Title'], job['Company'], job['Area'] = None, None, None\n",
    "\n",
    "        # job detail object\n",
    "        try:\n",
    "            job_detail = driver.find_element_by_css_selector('[data-automation=\"splitModeJobDetailsScrollWrapper\"]')\n",
    "            driver.implicitly_wait(5)\n",
    "\n",
    "            try:\n",
    "                # job description: list of description\n",
    "                job_description = driver.find_element_by_css_selector('[data-automation=\"jobDescription\"]').text.split('\\n')\n",
    "                driver.implicitly_wait(5)\n",
    "\n",
    "                job['Description'] = job_description\n",
    "            except:\n",
    "                print('❌ JobDescription raise exception!')\n",
    "                job['Description'] = None\n",
    "\n",
    "            try:\n",
    "                # additional information: list of information\n",
    "                job_additional_information = job_detail.find_element_by_xpath('div/div[2]/div/div[1]/div/div[2]').text.split('\\n')[1:][1::2]\n",
    "                driver.implicitly_wait(5)\n",
    "\n",
    "                job_additional_information = [i for i in job_additional_information if i.lower() != 'tidak terspesifikasi']\n",
    "\n",
    "                job['Information'] = job_additional_information\n",
    "            except:\n",
    "                print('❌ JobInformation raise exception!')\n",
    "                job['Information'] = None\n",
    "        except:\n",
    "            print('❌ JobDescription and JobInformation raise exception!')\n",
    "            job['Description'], job['Information'] = None, None\n",
    "\n",
    "        jobs.append(job)\n",
    "\n",
    "        # log\n",
    "        print(f\"{job_idx}.\".ljust(5), f\"[{job_num}, {curr_page}, {total_data}]\".center(25), f\"{job['Title']}\".center(60), 'scraped successfully ... 😊👍')\n",
    "\n",
    "        job_num += 1\n",
    "        job_idx += 1\n",
    "    \n",
    "    try:\n",
    "        # scroll to \"lanjut\"\n",
    "        driver.execute_script('arguments[0].scrollIntoView({block: \"center\"});', driver.find_element_by_xpath(\"//span[contains(text(), 'Lanjut')]\"))\n",
    "    except:\n",
    "        print('> raise break when scroll <')\n",
    "        break\n",
    "\n",
    "    # go to the next page\n",
    "    driver.find_element_by_xpath(\"//span[contains(text(), 'Lanjut')]\").click()\n",
    "    driver.implicitly_wait(10)\n",
    "\n",
    "    next_page = int(driver.find_element_by_id('pagination').get_attribute('value'))\n",
    "\n",
    "    if curr_page == next_page:\n",
    "        print('> raise break <')\n",
    "        break\n"
   ]
  },
  {
   "cell_type": "code",
   "execution_count": 215,
   "metadata": {},
   "outputs": [
    {
     "data": {
      "text/plain": [
       "107"
      ]
     },
     "execution_count": 215,
     "metadata": {},
     "output_type": "execute_result"
    }
   ],
   "source": [
    "len(jobs)"
   ]
  },
  {
   "cell_type": "code",
   "execution_count": 216,
   "metadata": {},
   "outputs": [],
   "source": [
    "filename = 'jobstreet_' + ''.join(job_name.title().split())\n",
    "\n",
    "with open(f'data/scraped/{filename}.pickle', 'wb') as file:\n",
    "    pickle.dump(jobs, file)"
   ]
  },
  {
   "cell_type": "code",
   "execution_count": 217,
   "metadata": {},
   "outputs": [
    {
     "name": "stdout",
     "output_type": "stream",
     "text": [
      "RELATION saved!\n"
     ]
    }
   ],
   "source": [
    "filepaths = glob('data/scraped/jobstreet_*.pickle')\n",
    "\n",
    "filenames = [filepath.split('.')[0].split('_')[-1].lower() for filepath in filepaths]\n",
    "\n",
    "if ''.join(job_name.lower().split()) in filenames:\n",
    "    print(job_name.upper(), 'saved!')"
   ]
  },
  {
   "cell_type": "code",
   "execution_count": 474,
   "metadata": {},
   "outputs": [
    {
     "name": "stdout",
     "output_type": "stream",
     "text": [
      "3198\n"
     ]
    }
   ],
   "source": [
    "# with open(\"data/scraped/jobstreet_Akuntansi.pickle\", \"rb\") as f:\n",
    "#     my_list = pickle.load(f)\n",
    "\n",
    "# print(len(my_list))"
   ]
  },
  {
   "cell_type": "code",
   "execution_count": 232,
   "metadata": {},
   "outputs": [],
   "source": [
    "# body = driver.find_element_by_tag_name(\"body\")\n",
    "# body.send_keys(Keys.CONTROL + '-')"
   ]
  },
  {
   "cell_type": "code",
   "execution_count": 233,
   "metadata": {},
   "outputs": [],
   "source": [
    "# job_search = driver.find_element_by_css_selector('#global-nav-typeahead > input')\n",
    "\n",
    "# job_search.click()\n",
    "# job_search.send_keys(Keys.CONTROL + 'a')\n",
    "# job_search.send_keys(Keys.DELETE)\n",
    "# job_search.send_keys('ios developer')\n",
    "\n",
    "# location_search = driver.find_element_by_css_selector('#jobs-search-box-location-id-ember1360')\n",
    "\n",
    "# location_search.click()\n",
    "# location_search.send_keys(Keys.CONTROL + 'a')\n",
    "# location_search.send_keys(Keys.DELETE)\n",
    "# location_search.send_keys('indonesia')\n",
    "\n",
    "# search_button = driver.find_element_by_xpath('//*[@id=\"global-nav-search\"]/div/div[2]/button[1]')\n",
    "# search_button.click()\n",
    "\n",
    "# actions = ActionChains(driver)\n",
    "# actions.send_keys(Keys.ENTER)\n",
    "# actions.perform()"
   ]
  },
  {
   "cell_type": "code",
   "execution_count": null,
   "metadata": {},
   "outputs": [],
   "source": []
  },
  {
   "cell_type": "code",
   "execution_count": null,
   "metadata": {},
   "outputs": [],
   "source": []
  },
  {
   "cell_type": "code",
   "execution_count": null,
   "metadata": {},
   "outputs": [],
   "source": []
  },
  {
   "cell_type": "code",
   "execution_count": null,
   "metadata": {},
   "outputs": [],
   "source": []
  },
  {
   "cell_type": "code",
   "execution_count": null,
   "metadata": {},
   "outputs": [],
   "source": []
  },
  {
   "cell_type": "code",
   "execution_count": null,
   "metadata": {},
   "outputs": [],
   "source": []
  },
  {
   "cell_type": "code",
   "execution_count": null,
   "metadata": {},
   "outputs": [],
   "source": []
  },
  {
   "cell_type": "code",
   "execution_count": null,
   "metadata": {},
   "outputs": [],
   "source": []
  }
 ],
 "metadata": {
  "kernelspec": {
   "display_name": "p1",
   "language": "python",
   "name": "python3"
  },
  "language_info": {
   "codemirror_mode": {
    "name": "ipython",
    "version": 3
   },
   "file_extension": ".py",
   "mimetype": "text/x-python",
   "name": "python",
   "nbconvert_exporter": "python",
   "pygments_lexer": "ipython3",
   "version": "3.10.0"
  },
  "orig_nbformat": 4
 },
 "nbformat": 4,
 "nbformat_minor": 2
}
